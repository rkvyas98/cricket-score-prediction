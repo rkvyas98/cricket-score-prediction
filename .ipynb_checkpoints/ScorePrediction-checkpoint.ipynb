{
 "cells": [
  {
   "cell_type": "code",
   "execution_count": 1,
   "metadata": {},
   "outputs": [],
   "source": [
    "import numpy as np\n",
    "import pandas as pd\n",
    "import matplotlib.pyplot as plt"
   ]
  },
  {
   "cell_type": "code",
   "execution_count": 42,
   "metadata": {},
   "outputs": [],
   "source": [
    "dataset = pd.read_csv('./data/final_df.csv')"
   ]
  },
  {
   "cell_type": "code",
   "execution_count": 43,
   "metadata": {},
   "outputs": [
    {
     "data": {
      "text/html": [
       "<div>\n",
       "<style scoped>\n",
       "    .dataframe tbody tr th:only-of-type {\n",
       "        vertical-align: middle;\n",
       "    }\n",
       "\n",
       "    .dataframe tbody tr th {\n",
       "        vertical-align: top;\n",
       "    }\n",
       "\n",
       "    .dataframe thead th {\n",
       "        text-align: right;\n",
       "    }\n",
       "</style>\n",
       "<table border=\"1\" class=\"dataframe\">\n",
       "  <thead>\n",
       "    <tr style=\"text-align: right;\">\n",
       "      <th></th>\n",
       "      <th>inning</th>\n",
       "      <th>batting_team</th>\n",
       "      <th>bowling_team</th>\n",
       "      <th>over</th>\n",
       "      <th>ball</th>\n",
       "      <th>batsman</th>\n",
       "      <th>bowler</th>\n",
       "      <th>total</th>\n",
       "    </tr>\n",
       "  </thead>\n",
       "  <tbody>\n",
       "    <tr>\n",
       "      <th>0</th>\n",
       "      <td>1</td>\n",
       "      <td>3</td>\n",
       "      <td>17</td>\n",
       "      <td>1</td>\n",
       "      <td>1</td>\n",
       "      <td>316</td>\n",
       "      <td>730</td>\n",
       "      <td>0</td>\n",
       "    </tr>\n",
       "    <tr>\n",
       "      <th>1</th>\n",
       "      <td>1</td>\n",
       "      <td>3</td>\n",
       "      <td>17</td>\n",
       "      <td>1</td>\n",
       "      <td>2</td>\n",
       "      <td>316</td>\n",
       "      <td>730</td>\n",
       "      <td>0</td>\n",
       "    </tr>\n",
       "    <tr>\n",
       "      <th>2</th>\n",
       "      <td>1</td>\n",
       "      <td>3</td>\n",
       "      <td>17</td>\n",
       "      <td>1</td>\n",
       "      <td>3</td>\n",
       "      <td>316</td>\n",
       "      <td>730</td>\n",
       "      <td>0</td>\n",
       "    </tr>\n",
       "    <tr>\n",
       "      <th>3</th>\n",
       "      <td>1</td>\n",
       "      <td>3</td>\n",
       "      <td>17</td>\n",
       "      <td>1</td>\n",
       "      <td>4</td>\n",
       "      <td>316</td>\n",
       "      <td>730</td>\n",
       "      <td>0</td>\n",
       "    </tr>\n",
       "    <tr>\n",
       "      <th>4</th>\n",
       "      <td>1</td>\n",
       "      <td>3</td>\n",
       "      <td>17</td>\n",
       "      <td>1</td>\n",
       "      <td>5</td>\n",
       "      <td>316</td>\n",
       "      <td>730</td>\n",
       "      <td>1</td>\n",
       "    </tr>\n",
       "  </tbody>\n",
       "</table>\n",
       "</div>"
      ],
      "text/plain": [
       "   inning  batting_team  bowling_team  over  ball  batsman  bowler  total\n",
       "0       1             3            17     1     1      316     730      0\n",
       "1       1             3            17     1     2      316     730      0\n",
       "2       1             3            17     1     3      316     730      0\n",
       "3       1             3            17     1     4      316     730      0\n",
       "4       1             3            17     1     5      316     730      1"
      ]
     },
     "execution_count": 43,
     "metadata": {},
     "output_type": "execute_result"
    }
   ],
   "source": [
    "dataset.head()"
   ]
  },
  {
   "cell_type": "code",
   "execution_count": 44,
   "metadata": {},
   "outputs": [
    {
     "name": "stdout",
     "output_type": "stream",
     "text": [
      "<class 'pandas.core.frame.DataFrame'>\n",
      "RangeIndex: 929563 entries, 0 to 929562\n",
      "Data columns (total 8 columns):\n",
      " #   Column        Non-Null Count   Dtype\n",
      "---  ------        --------------   -----\n",
      " 0   inning        929563 non-null  int64\n",
      " 1   batting_team  929563 non-null  int64\n",
      " 2   bowling_team  929563 non-null  int64\n",
      " 3   over          929563 non-null  int64\n",
      " 4   ball          929563 non-null  int64\n",
      " 5   batsman       929563 non-null  int64\n",
      " 6   bowler        929563 non-null  int64\n",
      " 7   total         929563 non-null  int64\n",
      "dtypes: int64(8)\n",
      "memory usage: 56.7 MB\n"
     ]
    }
   ],
   "source": [
    "dataset.info()"
   ]
  },
  {
   "cell_type": "code",
   "execution_count": 45,
   "metadata": {},
   "outputs": [
    {
     "data": {
      "text/plain": [
       "8"
      ]
     },
     "execution_count": 45,
     "metadata": {},
     "output_type": "execute_result"
    }
   ],
   "source": [
    "len(dataset['total'].unique())"
   ]
  },
  {
   "cell_type": "code",
   "execution_count": 46,
   "metadata": {
    "scrolled": false
   },
   "outputs": [
    {
     "data": {
      "text/html": [
       "<div>\n",
       "<style scoped>\n",
       "    .dataframe tbody tr th:only-of-type {\n",
       "        vertical-align: middle;\n",
       "    }\n",
       "\n",
       "    .dataframe tbody tr th {\n",
       "        vertical-align: top;\n",
       "    }\n",
       "\n",
       "    .dataframe thead th {\n",
       "        text-align: right;\n",
       "    }\n",
       "</style>\n",
       "<table border=\"1\" class=\"dataframe\">\n",
       "  <thead>\n",
       "    <tr style=\"text-align: right;\">\n",
       "      <th></th>\n",
       "      <th>inning</th>\n",
       "      <th>batting_team</th>\n",
       "      <th>bowling_team</th>\n",
       "      <th>over</th>\n",
       "      <th>ball</th>\n",
       "      <th>batsman</th>\n",
       "      <th>bowler</th>\n",
       "      <th>total</th>\n",
       "    </tr>\n",
       "  </thead>\n",
       "  <tbody>\n",
       "    <tr>\n",
       "      <th>count</th>\n",
       "      <td>929563.000000</td>\n",
       "      <td>929563.000000</td>\n",
       "      <td>929563.000000</td>\n",
       "      <td>929563.000000</td>\n",
       "      <td>929563.000000</td>\n",
       "      <td>929563.000000</td>\n",
       "      <td>929563.000000</td>\n",
       "      <td>929563.000000</td>\n",
       "    </tr>\n",
       "    <tr>\n",
       "      <th>mean</th>\n",
       "      <td>1.457898</td>\n",
       "      <td>13.549493</td>\n",
       "      <td>13.565234</td>\n",
       "      <td>23.347853</td>\n",
       "      <td>3.588336</td>\n",
       "      <td>795.519411</td>\n",
       "      <td>629.157632</td>\n",
       "      <td>0.831599</td>\n",
       "    </tr>\n",
       "    <tr>\n",
       "      <th>std</th>\n",
       "      <td>0.498225</td>\n",
       "      <td>7.603141</td>\n",
       "      <td>7.571610</td>\n",
       "      <td>13.817979</td>\n",
       "      <td>1.784554</td>\n",
       "      <td>449.818227</td>\n",
       "      <td>340.765601</td>\n",
       "      <td>1.252252</td>\n",
       "    </tr>\n",
       "    <tr>\n",
       "      <th>min</th>\n",
       "      <td>1.000000</td>\n",
       "      <td>0.000000</td>\n",
       "      <td>0.000000</td>\n",
       "      <td>1.000000</td>\n",
       "      <td>1.000000</td>\n",
       "      <td>0.000000</td>\n",
       "      <td>0.000000</td>\n",
       "      <td>0.000000</td>\n",
       "    </tr>\n",
       "    <tr>\n",
       "      <th>25%</th>\n",
       "      <td>1.000000</td>\n",
       "      <td>7.000000</td>\n",
       "      <td>7.000000</td>\n",
       "      <td>11.000000</td>\n",
       "      <td>2.000000</td>\n",
       "      <td>404.000000</td>\n",
       "      <td>351.000000</td>\n",
       "      <td>0.000000</td>\n",
       "    </tr>\n",
       "    <tr>\n",
       "      <th>50%</th>\n",
       "      <td>1.000000</td>\n",
       "      <td>15.000000</td>\n",
       "      <td>15.000000</td>\n",
       "      <td>23.000000</td>\n",
       "      <td>4.000000</td>\n",
       "      <td>823.000000</td>\n",
       "      <td>653.000000</td>\n",
       "      <td>0.000000</td>\n",
       "    </tr>\n",
       "    <tr>\n",
       "      <th>75%</th>\n",
       "      <td>2.000000</td>\n",
       "      <td>21.000000</td>\n",
       "      <td>20.000000</td>\n",
       "      <td>35.000000</td>\n",
       "      <td>5.000000</td>\n",
       "      <td>1190.000000</td>\n",
       "      <td>933.000000</td>\n",
       "      <td>1.000000</td>\n",
       "    </tr>\n",
       "    <tr>\n",
       "      <th>max</th>\n",
       "      <td>2.000000</td>\n",
       "      <td>25.000000</td>\n",
       "      <td>25.000000</td>\n",
       "      <td>50.000000</td>\n",
       "      <td>14.000000</td>\n",
       "      <td>1565.000000</td>\n",
       "      <td>1195.000000</td>\n",
       "      <td>7.000000</td>\n",
       "    </tr>\n",
       "  </tbody>\n",
       "</table>\n",
       "</div>"
      ],
      "text/plain": [
       "              inning   batting_team   bowling_team           over  \\\n",
       "count  929563.000000  929563.000000  929563.000000  929563.000000   \n",
       "mean        1.457898      13.549493      13.565234      23.347853   \n",
       "std         0.498225       7.603141       7.571610      13.817979   \n",
       "min         1.000000       0.000000       0.000000       1.000000   \n",
       "25%         1.000000       7.000000       7.000000      11.000000   \n",
       "50%         1.000000      15.000000      15.000000      23.000000   \n",
       "75%         2.000000      21.000000      20.000000      35.000000   \n",
       "max         2.000000      25.000000      25.000000      50.000000   \n",
       "\n",
       "                ball        batsman         bowler          total  \n",
       "count  929563.000000  929563.000000  929563.000000  929563.000000  \n",
       "mean        3.588336     795.519411     629.157632       0.831599  \n",
       "std         1.784554     449.818227     340.765601       1.252252  \n",
       "min         1.000000       0.000000       0.000000       0.000000  \n",
       "25%         2.000000     404.000000     351.000000       0.000000  \n",
       "50%         4.000000     823.000000     653.000000       0.000000  \n",
       "75%         5.000000    1190.000000     933.000000       1.000000  \n",
       "max        14.000000    1565.000000    1195.000000       7.000000  "
      ]
     },
     "execution_count": 46,
     "metadata": {},
     "output_type": "execute_result"
    }
   ],
   "source": [
    "dataset.describe()"
   ]
  },
  {
   "cell_type": "code",
   "execution_count": 47,
   "metadata": {
    "scrolled": false
   },
   "outputs": [
    {
     "data": {
      "text/html": [
       "<div>\n",
       "<style scoped>\n",
       "    .dataframe tbody tr th:only-of-type {\n",
       "        vertical-align: middle;\n",
       "    }\n",
       "\n",
       "    .dataframe tbody tr th {\n",
       "        vertical-align: top;\n",
       "    }\n",
       "\n",
       "    .dataframe thead th {\n",
       "        text-align: right;\n",
       "    }\n",
       "</style>\n",
       "<table border=\"1\" class=\"dataframe\">\n",
       "  <thead>\n",
       "    <tr style=\"text-align: right;\">\n",
       "      <th></th>\n",
       "      <th>inning</th>\n",
       "      <th>batting_team</th>\n",
       "      <th>bowling_team</th>\n",
       "      <th>over</th>\n",
       "      <th>ball</th>\n",
       "      <th>batsman</th>\n",
       "      <th>bowler</th>\n",
       "      <th>total</th>\n",
       "    </tr>\n",
       "  </thead>\n",
       "  <tbody>\n",
       "    <tr>\n",
       "      <th>inning</th>\n",
       "      <td>1.000000</td>\n",
       "      <td>0.016454</td>\n",
       "      <td>-0.025319</td>\n",
       "      <td>-0.089651</td>\n",
       "      <td>-0.002476</td>\n",
       "      <td>0.006481</td>\n",
       "      <td>0.004984</td>\n",
       "      <td>-0.006156</td>\n",
       "    </tr>\n",
       "    <tr>\n",
       "      <th>batting_team</th>\n",
       "      <td>0.016454</td>\n",
       "      <td>1.000000</td>\n",
       "      <td>-0.109506</td>\n",
       "      <td>-0.008440</td>\n",
       "      <td>-0.000259</td>\n",
       "      <td>-0.075505</td>\n",
       "      <td>-0.006692</td>\n",
       "      <td>-0.011734</td>\n",
       "    </tr>\n",
       "    <tr>\n",
       "      <th>bowling_team</th>\n",
       "      <td>-0.025319</td>\n",
       "      <td>-0.109506</td>\n",
       "      <td>1.000000</td>\n",
       "      <td>-0.003688</td>\n",
       "      <td>0.001425</td>\n",
       "      <td>0.023931</td>\n",
       "      <td>-0.023106</td>\n",
       "      <td>0.001053</td>\n",
       "    </tr>\n",
       "    <tr>\n",
       "      <th>over</th>\n",
       "      <td>-0.089651</td>\n",
       "      <td>-0.008440</td>\n",
       "      <td>-0.003688</td>\n",
       "      <td>1.000000</td>\n",
       "      <td>-0.009408</td>\n",
       "      <td>-0.016524</td>\n",
       "      <td>-0.006119</td>\n",
       "      <td>0.095542</td>\n",
       "    </tr>\n",
       "    <tr>\n",
       "      <th>ball</th>\n",
       "      <td>-0.002476</td>\n",
       "      <td>-0.000259</td>\n",
       "      <td>0.001425</td>\n",
       "      <td>-0.009408</td>\n",
       "      <td>1.000000</td>\n",
       "      <td>-0.001236</td>\n",
       "      <td>0.000334</td>\n",
       "      <td>-0.004858</td>\n",
       "    </tr>\n",
       "    <tr>\n",
       "      <th>batsman</th>\n",
       "      <td>0.006481</td>\n",
       "      <td>-0.075505</td>\n",
       "      <td>0.023931</td>\n",
       "      <td>-0.016524</td>\n",
       "      <td>-0.001236</td>\n",
       "      <td>1.000000</td>\n",
       "      <td>0.000582</td>\n",
       "      <td>-0.001106</td>\n",
       "    </tr>\n",
       "    <tr>\n",
       "      <th>bowler</th>\n",
       "      <td>0.004984</td>\n",
       "      <td>-0.006692</td>\n",
       "      <td>-0.023106</td>\n",
       "      <td>-0.006119</td>\n",
       "      <td>0.000334</td>\n",
       "      <td>0.000582</td>\n",
       "      <td>1.000000</td>\n",
       "      <td>0.001494</td>\n",
       "    </tr>\n",
       "    <tr>\n",
       "      <th>total</th>\n",
       "      <td>-0.006156</td>\n",
       "      <td>-0.011734</td>\n",
       "      <td>0.001053</td>\n",
       "      <td>0.095542</td>\n",
       "      <td>-0.004858</td>\n",
       "      <td>-0.001106</td>\n",
       "      <td>0.001494</td>\n",
       "      <td>1.000000</td>\n",
       "    </tr>\n",
       "  </tbody>\n",
       "</table>\n",
       "</div>"
      ],
      "text/plain": [
       "                inning  batting_team  bowling_team      over      ball  \\\n",
       "inning        1.000000      0.016454     -0.025319 -0.089651 -0.002476   \n",
       "batting_team  0.016454      1.000000     -0.109506 -0.008440 -0.000259   \n",
       "bowling_team -0.025319     -0.109506      1.000000 -0.003688  0.001425   \n",
       "over         -0.089651     -0.008440     -0.003688  1.000000 -0.009408   \n",
       "ball         -0.002476     -0.000259      0.001425 -0.009408  1.000000   \n",
       "batsman       0.006481     -0.075505      0.023931 -0.016524 -0.001236   \n",
       "bowler        0.004984     -0.006692     -0.023106 -0.006119  0.000334   \n",
       "total        -0.006156     -0.011734      0.001053  0.095542 -0.004858   \n",
       "\n",
       "               batsman    bowler     total  \n",
       "inning        0.006481  0.004984 -0.006156  \n",
       "batting_team -0.075505 -0.006692 -0.011734  \n",
       "bowling_team  0.023931 -0.023106  0.001053  \n",
       "over         -0.016524 -0.006119  0.095542  \n",
       "ball         -0.001236  0.000334 -0.004858  \n",
       "batsman       1.000000  0.000582 -0.001106  \n",
       "bowler        0.000582  1.000000  0.001494  \n",
       "total        -0.001106  0.001494  1.000000  "
      ]
     },
     "execution_count": 47,
     "metadata": {},
     "output_type": "execute_result"
    }
   ],
   "source": [
    "dataset.corr()"
   ]
  },
  {
   "cell_type": "code",
   "execution_count": 48,
   "metadata": {
    "scrolled": true
   },
   "outputs": [
    {
     "data": {
      "text/plain": [
       "array([[<AxesSubplot:title={'center':'inning'}>,\n",
       "        <AxesSubplot:title={'center':'batting_team'}>,\n",
       "        <AxesSubplot:title={'center':'bowling_team'}>],\n",
       "       [<AxesSubplot:title={'center':'over'}>,\n",
       "        <AxesSubplot:title={'center':'ball'}>,\n",
       "        <AxesSubplot:title={'center':'batsman'}>],\n",
       "       [<AxesSubplot:title={'center':'bowler'}>,\n",
       "        <AxesSubplot:title={'center':'total'}>, <AxesSubplot:>]],\n",
       "      dtype=object)"
      ]
     },
     "execution_count": 48,
     "metadata": {},
     "output_type": "execute_result"
    },
    {
     "data": {
      "image/png": "[encoded data removed]",
      "text/plain": [
       "<Figure size 1440x1080 with 9 Axes>"
      ]
     },
     "metadata": {
      "needs_background": "light"
     },
     "output_type": "display_data"
    }
   ],
   "source": [
    "dataset.hist(bins = 50, figsize = (20,15))"
   ]
  },
  {
   "cell_type": "code",
   "execution_count": 49,
   "metadata": {},
   "outputs": [],
   "source": [
    "X = dataset.iloc[:, :-1].values\n",
    "y = dataset.iloc[:, -1].values"
   ]
  },
  {
   "cell_type": "code",
   "execution_count": 50,
   "metadata": {},
   "outputs": [],
   "source": [
    "from sklearn.model_selection import train_test_split\n",
    "X_train, X_test, y_train, y_test = train_test_split(X, y, test_size = 0.2, random_state = 1)\n",
    "# print(len(train_set), len(test_set))"
   ]
  },
  {
   "cell_type": "code",
   "execution_count": 51,
   "metadata": {},
   "outputs": [],
   "source": [
    "from sklearn.model_selection import StratifiedShuffleSplit\n",
    "split = StratifiedShuffleSplit(n_splits = 1, test_size = 0.2, random_state = 42)\n",
    "for train_index, test_index in split.split(dataset, dataset['batting_team']):\n",
    "  strat_train_set = dataset.loc[train_index]\n",
    "  strat_test_set = dataset.loc[test_index]\n",
    "print(\"For training set: \")\n",
    "print(strat_train_set['batting_team'].value_counts())\n",
    "print(\"For testing set: \")\n",
    "print(strat_test_set['batting_team'].value_counts())\n",
    "X_train = strat_train_set.iloc[:,:-1].values\n",
    "y_train = strat_train_set.iloc[:,-1].values\n",
    "X_test = strat_test_set.iloc[:,:-1].values\n",
    "y_test = strat_test_set.iloc[:,-1].values"
   ]
  },
  {
   "cell_type": "code",
   "execution_count": 38,
   "metadata": {},
   "outputs": [],
   "source": [
    "from sklearn.preprocessing import StandardScaler\n",
    "sc = StandardScaler()\n",
    "X_train = sc.fit_transform(X_train)\n",
    "X_test = sc.transform(X_test)"
   ]
  },
  {
   "cell_type": "code",
   "execution_count": null,
   "metadata": {},
   "outputs": [
    {
     "name": "stderr",
     "output_type": "stream",
     "text": [
      "c:\\users\\vyas\\anaconda3\\envs\\csp\\lib\\site-packages\\xgboost\\sklearn.py:888: UserWarning: The use of label encoder in XGBClassifier is deprecated and will be removed in a future release. To remove this warning, do the following: 1) Pass option use_label_encoder=False when constructing XGBClassifier object; and 2) Encode your labels (y) as integers starting with 0, i.e. 0, 1, 2, ..., [num_class - 1].\n",
      "  warnings.warn(label_encoder_deprecation_msg, UserWarning)\n"
     ]
    },
    {
     "name": "stdout",
     "output_type": "stream",
     "text": [
      "[00:08:32] WARNING: C:/Users/Administrator/workspace/xgboost-win64_release_1.3.0/src/learner.cc:1061: Starting in XGBoost 1.3.0, the default evaluation metric used with the objective 'multi:softprob' was changed from 'merror' to 'mlogloss'. Explicitly set eval_metric if you'd like to restore the old behavior.\n"
     ]
    }
   ],
   "source": [
    "# from sklearn.tree import DecisionTreeClassifier\n",
    "# classifier = DecisionTreeClassifier(criterion='entropy', random_state=0)\n",
    "# classifier.fit(X_train, y_train)\n",
    "\n",
    "from xgboost import XGBClassifier\n",
    "classifier = XGBClassifier()\n",
    "classifier.fit(X_train, y_train)"
   ]
  },
  {
   "cell_type": "code",
   "execution_count": null,
   "metadata": {},
   "outputs": [],
   "source": [
    "y_pred = classifier.predict(X_test)\n",
    "print(np.concatenate((y_pred.reshape(len(y_pred),1), y_test.reshape(len(y_test),1)),1))"
   ]
  },
  {
   "cell_type": "code",
   "execution_count": null,
   "metadata": {},
   "outputs": [],
   "source": [
    "from sklearn.metrics import confusion_matrix, accuracy_score\n",
    "cm = confusion_matrix(y_test, y_pred)\n",
    "print(cm)\n",
    "accuracy_score(y_test, y_pred)"
   ]
  },
  {
   "cell_type": "code",
   "execution_count": 9,
   "metadata": {},
   "outputs": [
    {
     "data": {
      "text/plain": [
       "RandomForestRegressor(n_estimators=10, random_state=0)"
      ]
     },
     "execution_count": 9,
     "metadata": {},
     "output_type": "execute_result"
    }
   ],
   "source": [
    "# from sklearn.ensemble import RandomForestRegressor\n",
    "# model = RandomForestRegressor(n_estimators = 10, random_state = 0)\n",
    "# model.fit(X_train, y_train)"
   ]
  },
  {
   "cell_type": "code",
   "execution_count": null,
   "metadata": {},
   "outputs": [],
   "source": [
    "# from sklearn.ensemble import DecisionTreeRegressor\n",
    "# regressor = DecisionTreeRegressor(random_state = 0)\n",
    "# regressor.fit(X_train, y_train)"
   ]
  },
  {
   "cell_type": "code",
   "execution_count": 11,
   "metadata": {},
   "outputs": [
    {
     "name": "stdout",
     "output_type": "stream",
     "text": [
      "[[0.8        4.        ]\n",
      " [1.6        1.        ]\n",
      " [1.6        0.        ]\n",
      " ...\n",
      " [2.3        0.        ]\n",
      " [0.65       0.        ]\n",
      " [0.73333333 2.        ]]\n"
     ]
    }
   ],
   "source": [
    "y_pred = model.predict(X_test)\n",
    "# np.set_printoptions(precision=2)\n",
    "print(np.concatenate((y_pred.reshape(len(y_pred),1), y_test.reshape(len(y_test),1)),1))"
   ]
  },
  {
   "cell_type": "code",
   "execution_count": 12,
   "metadata": {},
   "outputs": [
    {
     "data": {
      "text/plain": [
       "-0.2378262190847502"
      ]
     },
     "execution_count": 12,
     "metadata": {},
     "output_type": "execute_result"
    }
   ],
   "source": [
    "from sklearn.metrics import r2_score\n",
    "r2_score(y_test, y_pred)"
   ]
  },
  {
   "cell_type": "code",
   "execution_count": null,
   "metadata": {},
   "outputs": [],
   "source": []
  }
 ],
 "metadata": {
  "kernelspec": {
   "display_name": "Python 3",
   "language": "python",
   "name": "python3"
  },
  "language_info": {
   "codemirror_mode": {
    "name": "ipython",
    "version": 3
   },
   "file_extension": ".py",
   "mimetype": "text/x-python",
   "name": "python",
   "nbconvert_exporter": "python",
   "pygments_lexer": "ipython3",
   "version": "3.7.9"
  }
 },
 "nbformat": 4,
 "nbformat_minor": 4
}
