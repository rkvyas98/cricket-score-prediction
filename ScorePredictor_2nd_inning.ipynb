{
 "cells": [
  {
   "cell_type": "markdown",
   "metadata": {
    "id": "ADt6lSOBWvGK"
   },
   "source": [
    "#Win Prediction of team by 2nd Inning performance"
   ]
  },
  {
   "cell_type": "markdown",
   "metadata": {
    "id": "hswDRuLbW4cJ"
   },
   "source": [
    "##Importing Libraries"
   ]
  },
  {
   "cell_type": "code",
   "execution_count": 1,
   "metadata": {
    "id": "rq8KZT3HYBkd"
   },
   "outputs": [],
   "source": [
    "import numpy as np\n",
    "import pandas as pd\n",
    "import matplotlib.pyplot as plt"
   ]
  },
  {
   "cell_type": "markdown",
   "metadata": {
    "id": "6VQ9LXcSW9hl"
   },
   "source": [
    "##Importing Data and Data study "
   ]
  },
  {
   "cell_type": "code",
   "execution_count": 2,
   "metadata": {
    "id": "3Hf_spHGYBkl"
   },
   "outputs": [],
   "source": [
    "dataset = pd.read_csv('./data/odi_2nd_inning.csv')"
   ]
  },
  {
   "cell_type": "code",
   "execution_count": 3,
   "metadata": {
    "id": "MQLr5pVZYBkl",
    "outputId": "c1ad8bd9-9e48-41d8-f4ef-55b8ccd74dfd"
   },
   "outputs": [
    {
     "data": {
      "text/html": [
       "<div>\n",
       "<style scoped>\n",
       "    .dataframe tbody tr th:only-of-type {\n",
       "        vertical-align: middle;\n",
       "    }\n",
       "\n",
       "    .dataframe tbody tr th {\n",
       "        vertical-align: top;\n",
       "    }\n",
       "\n",
       "    .dataframe thead th {\n",
       "        text-align: right;\n",
       "    }\n",
       "</style>\n",
       "<table border=\"1\" class=\"dataframe\">\n",
       "  <thead>\n",
       "    <tr style=\"text-align: right;\">\n",
       "      <th></th>\n",
       "      <th>mid</th>\n",
       "      <th>date</th>\n",
       "      <th>venue</th>\n",
       "      <th>bat_team</th>\n",
       "      <th>bowl_team</th>\n",
       "      <th>batsman</th>\n",
       "      <th>bowler</th>\n",
       "      <th>runs</th>\n",
       "      <th>wickets</th>\n",
       "      <th>overs</th>\n",
       "      <th>runs_last_5</th>\n",
       "      <th>wickets_last_5</th>\n",
       "      <th>striker</th>\n",
       "      <th>non_striker</th>\n",
       "      <th>total</th>\n",
       "      <th>win</th>\n",
       "    </tr>\n",
       "  </thead>\n",
       "  <tbody>\n",
       "    <tr>\n",
       "      <th>0</th>\n",
       "      <td>1524</td>\n",
       "      <td>11-01-2013</td>\n",
       "      <td>Saurashtra Cricket Association Stadium</td>\n",
       "      <td>India</td>\n",
       "      <td>England</td>\n",
       "      <td>AM Rahane</td>\n",
       "      <td>ST Finn</td>\n",
       "      <td>0</td>\n",
       "      <td>0</td>\n",
       "      <td>0.1</td>\n",
       "      <td>0</td>\n",
       "      <td>0</td>\n",
       "      <td>0</td>\n",
       "      <td>0</td>\n",
       "      <td>325</td>\n",
       "      <td>0</td>\n",
       "    </tr>\n",
       "    <tr>\n",
       "      <th>1</th>\n",
       "      <td>1524</td>\n",
       "      <td>11-01-2013</td>\n",
       "      <td>Saurashtra Cricket Association Stadium</td>\n",
       "      <td>India</td>\n",
       "      <td>England</td>\n",
       "      <td>AM Rahane</td>\n",
       "      <td>ST Finn</td>\n",
       "      <td>0</td>\n",
       "      <td>0</td>\n",
       "      <td>0.2</td>\n",
       "      <td>0</td>\n",
       "      <td>0</td>\n",
       "      <td>0</td>\n",
       "      <td>0</td>\n",
       "      <td>325</td>\n",
       "      <td>0</td>\n",
       "    </tr>\n",
       "    <tr>\n",
       "      <th>2</th>\n",
       "      <td>1524</td>\n",
       "      <td>11-01-2013</td>\n",
       "      <td>Saurashtra Cricket Association Stadium</td>\n",
       "      <td>India</td>\n",
       "      <td>England</td>\n",
       "      <td>AM Rahane</td>\n",
       "      <td>ST Finn</td>\n",
       "      <td>0</td>\n",
       "      <td>0</td>\n",
       "      <td>0.3</td>\n",
       "      <td>0</td>\n",
       "      <td>0</td>\n",
       "      <td>0</td>\n",
       "      <td>0</td>\n",
       "      <td>325</td>\n",
       "      <td>0</td>\n",
       "    </tr>\n",
       "    <tr>\n",
       "      <th>3</th>\n",
       "      <td>1524</td>\n",
       "      <td>11-01-2013</td>\n",
       "      <td>Saurashtra Cricket Association Stadium</td>\n",
       "      <td>India</td>\n",
       "      <td>England</td>\n",
       "      <td>AM Rahane</td>\n",
       "      <td>ST Finn</td>\n",
       "      <td>4</td>\n",
       "      <td>0</td>\n",
       "      <td>0.4</td>\n",
       "      <td>4</td>\n",
       "      <td>0</td>\n",
       "      <td>4</td>\n",
       "      <td>0</td>\n",
       "      <td>325</td>\n",
       "      <td>0</td>\n",
       "    </tr>\n",
       "    <tr>\n",
       "      <th>4</th>\n",
       "      <td>1524</td>\n",
       "      <td>11-01-2013</td>\n",
       "      <td>Saurashtra Cricket Association Stadium</td>\n",
       "      <td>India</td>\n",
       "      <td>England</td>\n",
       "      <td>AM Rahane</td>\n",
       "      <td>ST Finn</td>\n",
       "      <td>4</td>\n",
       "      <td>0</td>\n",
       "      <td>0.5</td>\n",
       "      <td>4</td>\n",
       "      <td>0</td>\n",
       "      <td>4</td>\n",
       "      <td>0</td>\n",
       "      <td>325</td>\n",
       "      <td>0</td>\n",
       "    </tr>\n",
       "  </tbody>\n",
       "</table>\n",
       "</div>"
      ],
      "text/plain": [
       "    mid        date                                   venue bat_team  \\\n",
       "0  1524  11-01-2013  Saurashtra Cricket Association Stadium    India   \n",
       "1  1524  11-01-2013  Saurashtra Cricket Association Stadium    India   \n",
       "2  1524  11-01-2013  Saurashtra Cricket Association Stadium    India   \n",
       "3  1524  11-01-2013  Saurashtra Cricket Association Stadium    India   \n",
       "4  1524  11-01-2013  Saurashtra Cricket Association Stadium    India   \n",
       "\n",
       "  bowl_team    batsman   bowler  runs  wickets  overs  runs_last_5  \\\n",
       "0   England  AM Rahane  ST Finn     0        0    0.1            0   \n",
       "1   England  AM Rahane  ST Finn     0        0    0.2            0   \n",
       "2   England  AM Rahane  ST Finn     0        0    0.3            0   \n",
       "3   England  AM Rahane  ST Finn     4        0    0.4            4   \n",
       "4   England  AM Rahane  ST Finn     4        0    0.5            4   \n",
       "\n",
       "   wickets_last_5  striker  non_striker  total  win  \n",
       "0               0        0            0    325    0  \n",
       "1               0        0            0    325    0  \n",
       "2               0        0            0    325    0  \n",
       "3               0        4            0    325    0  \n",
       "4               0        4            0    325    0  "
      ]
     },
     "execution_count": 3,
     "metadata": {},
     "output_type": "execute_result"
    }
   ],
   "source": [
    "dataset.head()"
   ]
  },
  {
   "cell_type": "code",
   "execution_count": 4,
   "metadata": {
    "id": "ZjLPF8QkYBkn",
    "outputId": "c3c147bc-9b3d-4da5-a6a6-8898a93142b5"
   },
   "outputs": [
    {
     "name": "stdout",
     "output_type": "stream",
     "text": [
      "19\n",
      "19\n",
      "558\n",
      "418\n"
     ]
    }
   ],
   "source": [
    "print(len(dataset[\"bat_team\"].unique()))\n",
    "print(len(dataset[\"bowl_team\"].unique()))\n",
    "print(len(dataset[\"batsman\"].unique()))\n",
    "print(len(dataset[\"bowler\"].unique()))"
   ]
  },
  {
   "cell_type": "code",
   "execution_count": 5,
   "metadata": {
    "id": "0mtMSV1_YBkn",
    "outputId": "8137c7d0-d094-44fb-a05e-4ad539295890"
   },
   "outputs": [
    {
     "data": {
      "text/html": [
       "<div>\n",
       "<style scoped>\n",
       "    .dataframe tbody tr th:only-of-type {\n",
       "        vertical-align: middle;\n",
       "    }\n",
       "\n",
       "    .dataframe tbody tr th {\n",
       "        vertical-align: top;\n",
       "    }\n",
       "\n",
       "    .dataframe thead th {\n",
       "        text-align: right;\n",
       "    }\n",
       "</style>\n",
       "<table border=\"1\" class=\"dataframe\">\n",
       "  <thead>\n",
       "    <tr style=\"text-align: right;\">\n",
       "      <th></th>\n",
       "      <th>mid</th>\n",
       "      <th>runs</th>\n",
       "      <th>wickets</th>\n",
       "      <th>overs</th>\n",
       "      <th>runs_last_5</th>\n",
       "      <th>wickets_last_5</th>\n",
       "      <th>striker</th>\n",
       "      <th>non_striker</th>\n",
       "      <th>total</th>\n",
       "      <th>win</th>\n",
       "    </tr>\n",
       "  </thead>\n",
       "  <tbody>\n",
       "    <tr>\n",
       "      <th>count</th>\n",
       "      <td>128211.000000</td>\n",
       "      <td>128211.000000</td>\n",
       "      <td>128211.000000</td>\n",
       "      <td>128211.000000</td>\n",
       "      <td>128211.000000</td>\n",
       "      <td>128211.000000</td>\n",
       "      <td>128211.000000</td>\n",
       "      <td>128211.000000</td>\n",
       "      <td>128211.000000</td>\n",
       "      <td>128211.000000</td>\n",
       "    </tr>\n",
       "    <tr>\n",
       "      <th>mean</th>\n",
       "      <td>2526.773046</td>\n",
       "      <td>108.289928</td>\n",
       "      <td>2.953366</td>\n",
       "      <td>21.787245</td>\n",
       "      <td>23.710563</td>\n",
       "      <td>0.700548</td>\n",
       "      <td>32.813674</td>\n",
       "      <td>11.765730</td>\n",
       "      <td>267.213523</td>\n",
       "      <td>0.477533</td>\n",
       "    </tr>\n",
       "    <tr>\n",
       "      <th>std</th>\n",
       "      <td>638.340489</td>\n",
       "      <td>71.850698</td>\n",
       "      <td>2.383497</td>\n",
       "      <td>13.259318</td>\n",
       "      <td>10.129097</td>\n",
       "      <td>0.851432</td>\n",
       "      <td>26.491717</td>\n",
       "      <td>14.834441</td>\n",
       "      <td>60.260179</td>\n",
       "      <td>0.499497</td>\n",
       "    </tr>\n",
       "    <tr>\n",
       "      <th>min</th>\n",
       "      <td>1524.000000</td>\n",
       "      <td>0.000000</td>\n",
       "      <td>0.000000</td>\n",
       "      <td>0.100000</td>\n",
       "      <td>0.000000</td>\n",
       "      <td>0.000000</td>\n",
       "      <td>0.000000</td>\n",
       "      <td>0.000000</td>\n",
       "      <td>67.000000</td>\n",
       "      <td>0.000000</td>\n",
       "    </tr>\n",
       "    <tr>\n",
       "      <th>25%</th>\n",
       "      <td>1958.000000</td>\n",
       "      <td>49.000000</td>\n",
       "      <td>1.000000</td>\n",
       "      <td>10.400000</td>\n",
       "      <td>17.000000</td>\n",
       "      <td>0.000000</td>\n",
       "      <td>12.000000</td>\n",
       "      <td>1.000000</td>\n",
       "      <td>229.000000</td>\n",
       "      <td>0.000000</td>\n",
       "    </tr>\n",
       "    <tr>\n",
       "      <th>50%</th>\n",
       "      <td>2397.000000</td>\n",
       "      <td>100.000000</td>\n",
       "      <td>2.000000</td>\n",
       "      <td>21.200000</td>\n",
       "      <td>23.000000</td>\n",
       "      <td>0.000000</td>\n",
       "      <td>27.000000</td>\n",
       "      <td>6.000000</td>\n",
       "      <td>268.000000</td>\n",
       "      <td>0.000000</td>\n",
       "    </tr>\n",
       "    <tr>\n",
       "      <th>75%</th>\n",
       "      <td>3119.000000</td>\n",
       "      <td>159.000000</td>\n",
       "      <td>4.000000</td>\n",
       "      <td>32.500000</td>\n",
       "      <td>30.000000</td>\n",
       "      <td>1.000000</td>\n",
       "      <td>47.000000</td>\n",
       "      <td>17.000000</td>\n",
       "      <td>307.000000</td>\n",
       "      <td>1.000000</td>\n",
       "    </tr>\n",
       "    <tr>\n",
       "      <th>max</th>\n",
       "      <td>3880.000000</td>\n",
       "      <td>372.000000</td>\n",
       "      <td>10.000000</td>\n",
       "      <td>49.800000</td>\n",
       "      <td>81.000000</td>\n",
       "      <td>6.000000</td>\n",
       "      <td>180.000000</td>\n",
       "      <td>117.000000</td>\n",
       "      <td>444.000000</td>\n",
       "      <td>1.000000</td>\n",
       "    </tr>\n",
       "  </tbody>\n",
       "</table>\n",
       "</div>"
      ],
      "text/plain": [
       "                 mid           runs        wickets          overs  \\\n",
       "count  128211.000000  128211.000000  128211.000000  128211.000000   \n",
       "mean     2526.773046     108.289928       2.953366      21.787245   \n",
       "std       638.340489      71.850698       2.383497      13.259318   \n",
       "min      1524.000000       0.000000       0.000000       0.100000   \n",
       "25%      1958.000000      49.000000       1.000000      10.400000   \n",
       "50%      2397.000000     100.000000       2.000000      21.200000   \n",
       "75%      3119.000000     159.000000       4.000000      32.500000   \n",
       "max      3880.000000     372.000000      10.000000      49.800000   \n",
       "\n",
       "         runs_last_5  wickets_last_5        striker    non_striker  \\\n",
       "count  128211.000000   128211.000000  128211.000000  128211.000000   \n",
       "mean       23.710563        0.700548      32.813674      11.765730   \n",
       "std        10.129097        0.851432      26.491717      14.834441   \n",
       "min         0.000000        0.000000       0.000000       0.000000   \n",
       "25%        17.000000        0.000000      12.000000       1.000000   \n",
       "50%        23.000000        0.000000      27.000000       6.000000   \n",
       "75%        30.000000        1.000000      47.000000      17.000000   \n",
       "max        81.000000        6.000000     180.000000     117.000000   \n",
       "\n",
       "               total            win  \n",
       "count  128211.000000  128211.000000  \n",
       "mean      267.213523       0.477533  \n",
       "std        60.260179       0.499497  \n",
       "min        67.000000       0.000000  \n",
       "25%       229.000000       0.000000  \n",
       "50%       268.000000       0.000000  \n",
       "75%       307.000000       1.000000  \n",
       "max       444.000000       1.000000  "
      ]
     },
     "execution_count": 5,
     "metadata": {},
     "output_type": "execute_result"
    }
   ],
   "source": [
    "dataset.describe()"
   ]
  },
  {
   "cell_type": "code",
   "execution_count": 6,
   "metadata": {
    "id": "FXa_y0QeYBko",
    "outputId": "2774d86d-62b0-478e-e7cc-c0a170a75454"
   },
   "outputs": [
    {
     "name": "stdout",
     "output_type": "stream",
     "text": [
      "<class 'pandas.core.frame.DataFrame'>\n",
      "RangeIndex: 128211 entries, 0 to 128210\n",
      "Data columns (total 16 columns):\n",
      " #   Column          Non-Null Count   Dtype  \n",
      "---  ------          --------------   -----  \n",
      " 0   mid             128211 non-null  int64  \n",
      " 1   date            128211 non-null  object \n",
      " 2   venue           128211 non-null  object \n",
      " 3   bat_team        128211 non-null  object \n",
      " 4   bowl_team       128211 non-null  object \n",
      " 5   batsman         128211 non-null  object \n",
      " 6   bowler          128211 non-null  object \n",
      " 7   runs            128211 non-null  int64  \n",
      " 8   wickets         128211 non-null  int64  \n",
      " 9   overs           128211 non-null  float64\n",
      " 10  runs_last_5     128211 non-null  int64  \n",
      " 11  wickets_last_5  128211 non-null  int64  \n",
      " 12  striker         128211 non-null  int64  \n",
      " 13  non_striker     128211 non-null  int64  \n",
      " 14  total           128211 non-null  int64  \n",
      " 15  win             128211 non-null  int64  \n",
      "dtypes: float64(1), int64(9), object(6)\n",
      "memory usage: 15.7+ MB\n"
     ]
    }
   ],
   "source": [
    "dataset.info()"
   ]
  },
  {
   "cell_type": "code",
   "execution_count": 7,
   "metadata": {
    "id": "xpgSoxI1YBko",
    "outputId": "365cbaf1-5a5e-4d0b-b2e5-71ee4b6bdb58"
   },
   "outputs": [
    {
     "data": {
      "text/html": [
       "<div>\n",
       "<style scoped>\n",
       "    .dataframe tbody tr th:only-of-type {\n",
       "        vertical-align: middle;\n",
       "    }\n",
       "\n",
       "    .dataframe tbody tr th {\n",
       "        vertical-align: top;\n",
       "    }\n",
       "\n",
       "    .dataframe thead th {\n",
       "        text-align: right;\n",
       "    }\n",
       "</style>\n",
       "<table border=\"1\" class=\"dataframe\">\n",
       "  <thead>\n",
       "    <tr style=\"text-align: right;\">\n",
       "      <th></th>\n",
       "      <th>mid</th>\n",
       "      <th>runs</th>\n",
       "      <th>wickets</th>\n",
       "      <th>overs</th>\n",
       "      <th>runs_last_5</th>\n",
       "      <th>wickets_last_5</th>\n",
       "      <th>striker</th>\n",
       "      <th>non_striker</th>\n",
       "      <th>total</th>\n",
       "      <th>win</th>\n",
       "    </tr>\n",
       "  </thead>\n",
       "  <tbody>\n",
       "    <tr>\n",
       "      <th>mid</th>\n",
       "      <td>1.000000</td>\n",
       "      <td>0.027904</td>\n",
       "      <td>-0.022598</td>\n",
       "      <td>-0.007459</td>\n",
       "      <td>0.029244</td>\n",
       "      <td>-0.011049</td>\n",
       "      <td>0.002806</td>\n",
       "      <td>-0.003187</td>\n",
       "      <td>0.009431</td>\n",
       "      <td>-0.030045</td>\n",
       "    </tr>\n",
       "    <tr>\n",
       "      <th>runs</th>\n",
       "      <td>0.027904</td>\n",
       "      <td>1.000000</td>\n",
       "      <td>0.651917</td>\n",
       "      <td>0.941468</td>\n",
       "      <td>0.530775</td>\n",
       "      <td>0.191694</td>\n",
       "      <td>0.570331</td>\n",
       "      <td>0.269376</td>\n",
       "      <td>0.205284</td>\n",
       "      <td>0.028519</td>\n",
       "    </tr>\n",
       "    <tr>\n",
       "      <th>wickets</th>\n",
       "      <td>-0.022598</td>\n",
       "      <td>0.651917</td>\n",
       "      <td>1.000000</td>\n",
       "      <td>0.762226</td>\n",
       "      <td>0.153108</td>\n",
       "      <td>0.509808</td>\n",
       "      <td>0.057577</td>\n",
       "      <td>-0.182686</td>\n",
       "      <td>0.136508</td>\n",
       "      <td>-0.274415</td>\n",
       "    </tr>\n",
       "    <tr>\n",
       "      <th>overs</th>\n",
       "      <td>-0.007459</td>\n",
       "      <td>0.941468</td>\n",
       "      <td>0.762226</td>\n",
       "      <td>1.000000</td>\n",
       "      <td>0.397507</td>\n",
       "      <td>0.219448</td>\n",
       "      <td>0.488978</td>\n",
       "      <td>0.203322</td>\n",
       "      <td>0.105727</td>\n",
       "      <td>-0.021632</td>\n",
       "    </tr>\n",
       "    <tr>\n",
       "      <th>runs_last_5</th>\n",
       "      <td>0.029244</td>\n",
       "      <td>0.530775</td>\n",
       "      <td>0.153108</td>\n",
       "      <td>0.397507</td>\n",
       "      <td>1.000000</td>\n",
       "      <td>-0.064110</td>\n",
       "      <td>0.522058</td>\n",
       "      <td>0.416294</td>\n",
       "      <td>0.172561</td>\n",
       "      <td>0.089527</td>\n",
       "    </tr>\n",
       "    <tr>\n",
       "      <th>wickets_last_5</th>\n",
       "      <td>-0.011049</td>\n",
       "      <td>0.191694</td>\n",
       "      <td>0.509808</td>\n",
       "      <td>0.219448</td>\n",
       "      <td>-0.064110</td>\n",
       "      <td>1.000000</td>\n",
       "      <td>-0.233254</td>\n",
       "      <td>-0.458034</td>\n",
       "      <td>0.090513</td>\n",
       "      <td>-0.227709</td>\n",
       "    </tr>\n",
       "    <tr>\n",
       "      <th>striker</th>\n",
       "      <td>0.002806</td>\n",
       "      <td>0.570331</td>\n",
       "      <td>0.057577</td>\n",
       "      <td>0.488978</td>\n",
       "      <td>0.522058</td>\n",
       "      <td>-0.233254</td>\n",
       "      <td>1.000000</td>\n",
       "      <td>0.553141</td>\n",
       "      <td>0.076455</td>\n",
       "      <td>0.207660</td>\n",
       "    </tr>\n",
       "    <tr>\n",
       "      <th>non_striker</th>\n",
       "      <td>-0.003187</td>\n",
       "      <td>0.269376</td>\n",
       "      <td>-0.182686</td>\n",
       "      <td>0.203322</td>\n",
       "      <td>0.416294</td>\n",
       "      <td>-0.458034</td>\n",
       "      <td>0.553141</td>\n",
       "      <td>1.000000</td>\n",
       "      <td>0.013766</td>\n",
       "      <td>0.236693</td>\n",
       "    </tr>\n",
       "    <tr>\n",
       "      <th>total</th>\n",
       "      <td>0.009431</td>\n",
       "      <td>0.205284</td>\n",
       "      <td>0.136508</td>\n",
       "      <td>0.105727</td>\n",
       "      <td>0.172561</td>\n",
       "      <td>0.090513</td>\n",
       "      <td>0.076455</td>\n",
       "      <td>0.013766</td>\n",
       "      <td>1.000000</td>\n",
       "      <td>-0.505343</td>\n",
       "    </tr>\n",
       "    <tr>\n",
       "      <th>win</th>\n",
       "      <td>-0.030045</td>\n",
       "      <td>0.028519</td>\n",
       "      <td>-0.274415</td>\n",
       "      <td>-0.021632</td>\n",
       "      <td>0.089527</td>\n",
       "      <td>-0.227709</td>\n",
       "      <td>0.207660</td>\n",
       "      <td>0.236693</td>\n",
       "      <td>-0.505343</td>\n",
       "      <td>1.000000</td>\n",
       "    </tr>\n",
       "  </tbody>\n",
       "</table>\n",
       "</div>"
      ],
      "text/plain": [
       "                     mid      runs   wickets     overs  runs_last_5  \\\n",
       "mid             1.000000  0.027904 -0.022598 -0.007459     0.029244   \n",
       "runs            0.027904  1.000000  0.651917  0.941468     0.530775   \n",
       "wickets        -0.022598  0.651917  1.000000  0.762226     0.153108   \n",
       "overs          -0.007459  0.941468  0.762226  1.000000     0.397507   \n",
       "runs_last_5     0.029244  0.530775  0.153108  0.397507     1.000000   \n",
       "wickets_last_5 -0.011049  0.191694  0.509808  0.219448    -0.064110   \n",
       "striker         0.002806  0.570331  0.057577  0.488978     0.522058   \n",
       "non_striker    -0.003187  0.269376 -0.182686  0.203322     0.416294   \n",
       "total           0.009431  0.205284  0.136508  0.105727     0.172561   \n",
       "win            -0.030045  0.028519 -0.274415 -0.021632     0.089527   \n",
       "\n",
       "                wickets_last_5   striker  non_striker     total       win  \n",
       "mid                  -0.011049  0.002806    -0.003187  0.009431 -0.030045  \n",
       "runs                  0.191694  0.570331     0.269376  0.205284  0.028519  \n",
       "wickets               0.509808  0.057577    -0.182686  0.136508 -0.274415  \n",
       "overs                 0.219448  0.488978     0.203322  0.105727 -0.021632  \n",
       "runs_last_5          -0.064110  0.522058     0.416294  0.172561  0.089527  \n",
       "wickets_last_5        1.000000 -0.233254    -0.458034  0.090513 -0.227709  \n",
       "striker              -0.233254  1.000000     0.553141  0.076455  0.207660  \n",
       "non_striker          -0.458034  0.553141     1.000000  0.013766  0.236693  \n",
       "total                 0.090513  0.076455     0.013766  1.000000 -0.505343  \n",
       "win                  -0.227709  0.207660     0.236693 -0.505343  1.000000  "
      ]
     },
     "execution_count": 7,
     "metadata": {},
     "output_type": "execute_result"
    }
   ],
   "source": [
    "dataset.corr()"
   ]
  },
  {
   "cell_type": "code",
   "execution_count": 8,
   "metadata": {
    "id": "qF6CSlM2YBko",
    "outputId": "4bdb6bf9-5ba7-43e3-eda5-c53396ce5af4"
   },
   "outputs": [
    {
     "data": {
      "text/plain": [
       "Index(['mid', 'date', 'venue', 'bat_team', 'bowl_team', 'batsman', 'bowler',\n",
       "       'runs', 'wickets', 'overs', 'runs_last_5', 'wickets_last_5', 'striker',\n",
       "       'non_striker', 'total', 'win'],\n",
       "      dtype='object')"
      ]
     },
     "execution_count": 8,
     "metadata": {},
     "output_type": "execute_result"
    }
   ],
   "source": [
    "dataset.columns"
   ]
  },
  {
   "cell_type": "code",
   "execution_count": 9,
   "metadata": {
    "id": "roj_RmqsYBkp"
   },
   "outputs": [],
   "source": [
    "K = dataset.iloc[:, [3,4,5,6,7,8,9,12,13,14,15]].values"
   ]
  },
  {
   "cell_type": "code",
   "execution_count": 10,
   "metadata": {
    "id": "VIKSK5quYBkp",
    "outputId": "57e7f655-4d92-4650-f7f1-7757d420d46c"
   },
   "outputs": [
    {
     "data": {
      "text/plain": [
       "array([['India', 'England', 'AM Rahane', ..., 0, 325, 0],\n",
       "       ['India', 'England', 'AM Rahane', ..., 0, 325, 0],\n",
       "       ['India', 'England', 'AM Rahane', ..., 0, 325, 0],\n",
       "       ...,\n",
       "       ['England', 'Ireland', '2', ..., 0, 198, 1],\n",
       "       ['England', 'Ireland', '1', ..., 0, 198, 1],\n",
       "       ['England', 'Ireland', '4', ..., 0, 198, 1]], dtype=object)"
      ]
     },
     "execution_count": 10,
     "metadata": {},
     "output_type": "execute_result"
    }
   ],
   "source": [
    "K"
   ]
  },
  {
   "cell_type": "markdown",
   "metadata": {
    "id": "3_jigosEYiK4"
   },
   "source": [
    "###Label Encoding Name of player and Playing teams"
   ]
  },
  {
   "cell_type": "code",
   "execution_count": 11,
   "metadata": {
    "id": "Rq1eNRbVYBkp"
   },
   "outputs": [],
   "source": [
    "from sklearn.preprocessing import LabelEncoder\n",
    "le = LabelEncoder()\n",
    "K[:, 0] = le.fit_transform(K[:, 0])\n",
    "K[:, 1] = le.fit_transform(K[:, 1])\n",
    "K[:, 2] = le.fit_transform(K[:, 2])\n",
    "K[:, 3] = le.fit_transform(K[:, 3])"
   ]
  },
  {
   "cell_type": "code",
   "execution_count": 12,
   "metadata": {
    "id": "PQlGEzbWYBkq"
   },
   "outputs": [],
   "source": [
    "# data = dataset.iloc[:, [3,4,5,6,7,8,9,12,13,14,15]]\n",
    "column_names = ['bat_team', 'bowl_team', 'batsman', 'bowler', 'runs', 'wickets',\n",
    "       'overs', 'striker', 'non_striker', 'total', 'win']\n",
    "df = pd.DataFrame(data = K,\n",
    "                 columns = column_names)"
   ]
  },
  {
   "cell_type": "code",
   "execution_count": 13,
   "metadata": {
    "id": "AbWaWeqfYBkq",
    "outputId": "f6bd1ad8-cfb6-4f9c-e929-2403c40f55e6",
    "scrolled": true
   },
   "outputs": [
    {
     "name": "stdout",
     "output_type": "stream",
     "text": [
      "19\n",
      "19\n",
      "558\n",
      "418\n"
     ]
    }
   ],
   "source": [
    "print(len(df[\"bat_team\"].unique()))\n",
    "print(len(df[\"bowl_team\"].unique()))\n",
    "print(len(df[\"batsman\"].unique()))\n",
    "print(len(df[\"bowler\"].unique()))"
   ]
  },
  {
   "cell_type": "code",
   "execution_count": 14,
   "metadata": {
    "id": "KGiuHriJYBkq"
   },
   "outputs": [],
   "source": [
    "df[\"bat_team\"] = df.bat_team.astype(int)\n",
    "df[\"bowl_team\"] = df.bowl_team.astype(int)\n",
    "df[\"batsman\"] = df.batsman.astype(int)\n",
    "df[\"bowler\"] = df.bowler.astype(int)\n",
    "df[\"runs\"] = df.runs.astype(int)\n",
    "df[\"wickets\"] = df.wickets.astype(int)\n",
    "df[\"overs\"] = df.overs.astype(int)\n",
    "df[\"striker\"] = df.striker.astype(int)\n",
    "df[\"non_striker\"] = df.non_striker.astype(int)\n",
    "df[\"total\"] = df.total.astype(int)\n",
    "df[\"win\"] = df.win.astype(int)"
   ]
  },
  {
   "cell_type": "code",
   "execution_count": 15,
   "metadata": {
    "id": "VxN7NXjnYBkr",
    "outputId": "d745bfae-47d3-474d-e45a-ae34bcc7589b"
   },
   "outputs": [
    {
     "name": "stdout",
     "output_type": "stream",
     "text": [
      "<class 'pandas.core.frame.DataFrame'>\n",
      "RangeIndex: 128211 entries, 0 to 128210\n",
      "Data columns (total 11 columns):\n",
      " #   Column       Non-Null Count   Dtype\n",
      "---  ------       --------------   -----\n",
      " 0   bat_team     128211 non-null  int32\n",
      " 1   bowl_team    128211 non-null  int32\n",
      " 2   batsman      128211 non-null  int32\n",
      " 3   bowler       128211 non-null  int32\n",
      " 4   runs         128211 non-null  int32\n",
      " 5   wickets      128211 non-null  int32\n",
      " 6   overs        128211 non-null  int32\n",
      " 7   striker      128211 non-null  int32\n",
      " 8   non_striker  128211 non-null  int32\n",
      " 9   total        128211 non-null  int32\n",
      " 10  win          128211 non-null  int32\n",
      "dtypes: int32(11)\n",
      "memory usage: 5.4 MB\n"
     ]
    }
   ],
   "source": [
    "df.info()"
   ]
  },
  {
   "cell_type": "code",
   "execution_count": 16,
   "metadata": {
    "id": "eb-7FRWfYBkr",
    "outputId": "da671f6e-8827-4f6a-95e3-4f96fe442e72"
   },
   "outputs": [
    {
     "data": {
      "text/html": [
       "<div>\n",
       "<style scoped>\n",
       "    .dataframe tbody tr th:only-of-type {\n",
       "        vertical-align: middle;\n",
       "    }\n",
       "\n",
       "    .dataframe tbody tr th {\n",
       "        vertical-align: top;\n",
       "    }\n",
       "\n",
       "    .dataframe thead th {\n",
       "        text-align: right;\n",
       "    }\n",
       "</style>\n",
       "<table border=\"1\" class=\"dataframe\">\n",
       "  <thead>\n",
       "    <tr style=\"text-align: right;\">\n",
       "      <th></th>\n",
       "      <th>bat_team</th>\n",
       "      <th>bowl_team</th>\n",
       "      <th>batsman</th>\n",
       "      <th>bowler</th>\n",
       "      <th>runs</th>\n",
       "      <th>wickets</th>\n",
       "      <th>overs</th>\n",
       "      <th>striker</th>\n",
       "      <th>non_striker</th>\n",
       "      <th>total</th>\n",
       "      <th>win</th>\n",
       "    </tr>\n",
       "  </thead>\n",
       "  <tbody>\n",
       "    <tr>\n",
       "      <th>0</th>\n",
       "      <td>6</td>\n",
       "      <td>4</td>\n",
       "      <td>30</td>\n",
       "      <td>353</td>\n",
       "      <td>0</td>\n",
       "      <td>0</td>\n",
       "      <td>0</td>\n",
       "      <td>0</td>\n",
       "      <td>0</td>\n",
       "      <td>325</td>\n",
       "      <td>0</td>\n",
       "    </tr>\n",
       "    <tr>\n",
       "      <th>1</th>\n",
       "      <td>6</td>\n",
       "      <td>4</td>\n",
       "      <td>30</td>\n",
       "      <td>353</td>\n",
       "      <td>0</td>\n",
       "      <td>0</td>\n",
       "      <td>0</td>\n",
       "      <td>0</td>\n",
       "      <td>0</td>\n",
       "      <td>325</td>\n",
       "      <td>0</td>\n",
       "    </tr>\n",
       "    <tr>\n",
       "      <th>2</th>\n",
       "      <td>6</td>\n",
       "      <td>4</td>\n",
       "      <td>30</td>\n",
       "      <td>353</td>\n",
       "      <td>0</td>\n",
       "      <td>0</td>\n",
       "      <td>0</td>\n",
       "      <td>0</td>\n",
       "      <td>0</td>\n",
       "      <td>325</td>\n",
       "      <td>0</td>\n",
       "    </tr>\n",
       "    <tr>\n",
       "      <th>3</th>\n",
       "      <td>6</td>\n",
       "      <td>4</td>\n",
       "      <td>30</td>\n",
       "      <td>353</td>\n",
       "      <td>4</td>\n",
       "      <td>0</td>\n",
       "      <td>0</td>\n",
       "      <td>4</td>\n",
       "      <td>0</td>\n",
       "      <td>325</td>\n",
       "      <td>0</td>\n",
       "    </tr>\n",
       "    <tr>\n",
       "      <th>4</th>\n",
       "      <td>6</td>\n",
       "      <td>4</td>\n",
       "      <td>30</td>\n",
       "      <td>353</td>\n",
       "      <td>4</td>\n",
       "      <td>0</td>\n",
       "      <td>0</td>\n",
       "      <td>4</td>\n",
       "      <td>0</td>\n",
       "      <td>325</td>\n",
       "      <td>0</td>\n",
       "    </tr>\n",
       "  </tbody>\n",
       "</table>\n",
       "</div>"
      ],
      "text/plain": [
       "   bat_team  bowl_team  batsman  bowler  runs  wickets  overs  striker  \\\n",
       "0         6          4       30     353     0        0      0        0   \n",
       "1         6          4       30     353     0        0      0        0   \n",
       "2         6          4       30     353     0        0      0        0   \n",
       "3         6          4       30     353     4        0      0        4   \n",
       "4         6          4       30     353     4        0      0        4   \n",
       "\n",
       "   non_striker  total  win  \n",
       "0            0    325    0  \n",
       "1            0    325    0  \n",
       "2            0    325    0  \n",
       "3            0    325    0  \n",
       "4            0    325    0  "
      ]
     },
     "execution_count": 16,
     "metadata": {},
     "output_type": "execute_result"
    }
   ],
   "source": [
    "df.head()"
   ]
  },
  {
   "cell_type": "code",
   "execution_count": 17,
   "metadata": {
    "id": "-kDYKRAEYBkr"
   },
   "outputs": [],
   "source": [
    "X = df.iloc[:, :-1].values\n",
    "y = df.iloc[:, -1].values"
   ]
  },
  {
   "cell_type": "code",
   "execution_count": 18,
   "metadata": {
    "id": "rGmpNmAZYBks",
    "outputId": "1b52f869-ebe3-486a-f86d-ae701936bbf3"
   },
   "outputs": [
    {
     "data": {
      "text/plain": [
       "array([[  6,   4,  30, ...,   0,   0, 325],\n",
       "       [  6,   4,  30, ...,   0,   0, 325],\n",
       "       [  6,   4,  30, ...,   0,   0, 325],\n",
       "       ...,\n",
       "       [  4,   7,   2, ...,  26,   0, 198],\n",
       "       [  4,   7,   1, ...,  71,   0, 198],\n",
       "       [  4,   7,   4, ...,  76,   0, 198]])"
      ]
     },
     "execution_count": 18,
     "metadata": {},
     "output_type": "execute_result"
    }
   ],
   "source": [
    "X"
   ]
  },
  {
   "cell_type": "code",
   "execution_count": 19,
   "metadata": {
    "id": "jCA2OJUHYBks",
    "outputId": "74a28c62-4825-4a45-b1d8-94a8c08d3817"
   },
   "outputs": [
    {
     "data": {
      "text/plain": [
       "array([0, 0, 0, ..., 1, 1, 1])"
      ]
     },
     "execution_count": 19,
     "metadata": {},
     "output_type": "execute_result"
    }
   ],
   "source": [
    "y"
   ]
  },
  {
   "cell_type": "code",
   "execution_count": 20,
   "metadata": {
    "id": "PVKFPFxaYBks",
    "outputId": "ae9fe90e-ad81-48cd-f9ab-25bcb30fa3e1"
   },
   "outputs": [
    {
     "name": "stdout",
     "output_type": "stream",
     "text": [
      "For training set: \n",
      "6     11838\n",
      "11     9905\n",
      "15     9678\n",
      "18     9318\n",
      "4      9168\n",
      "14     8655\n",
      "1      8523\n",
      "17     8519\n",
      "10     7766\n",
      "7      4903\n",
      "2      4588\n",
      "0      3881\n",
      "16     2447\n",
      "13     1303\n",
      "5       687\n",
      "8       412\n",
      "9       412\n",
      "12      362\n",
      "3       203\n",
      "Name: bat_team, dtype: int64\n",
      "For testing set: \n",
      "6     2960\n",
      "11    2476\n",
      "15    2420\n",
      "18    2329\n",
      "4     2292\n",
      "14    2164\n",
      "1     2131\n",
      "17    2130\n",
      "10    1941\n",
      "7     1226\n",
      "2     1147\n",
      "0      970\n",
      "16     612\n",
      "13     326\n",
      "5      172\n",
      "9      103\n",
      "8      103\n",
      "12      90\n",
      "3       51\n",
      "Name: bat_team, dtype: int64\n"
     ]
    }
   ],
   "source": [
    "from sklearn.model_selection import StratifiedShuffleSplit\n",
    "split = StratifiedShuffleSplit(n_splits = 1, test_size = 0.2, random_state = 42)\n",
    "for train_index, test_index in split.split(df, df['bat_team']):\n",
    "  strat_train_set = df.loc[train_index]\n",
    "  strat_test_set = df.loc[test_index]\n",
    "print(\"For training set: \")\n",
    "print(strat_train_set['bat_team'].value_counts())\n",
    "print(\"For testing set: \")\n",
    "print(strat_test_set['bat_team'].value_counts())\n",
    "X_train = strat_train_set.iloc[:,:-1].values\n",
    "y_train = strat_train_set.iloc[:,-1].values\n",
    "X_test = strat_test_set.iloc[:,:-1].values\n",
    "y_test = strat_test_set.iloc[:,-1].values"
   ]
  },
  {
   "cell_type": "code",
   "execution_count": 21,
   "metadata": {
    "id": "1-1yDq0SYBks"
   },
   "outputs": [],
   "source": [
    "# from sklearn.model_selection import train_test_split\n",
    "# X_train, X_test, y_train, y_test = train_test_split(X, y, test_size = 0.25, random_state = 0)"
   ]
  },
  {
   "cell_type": "markdown",
   "metadata": {
    "id": "Kur2zdvkYtmo"
   },
   "source": [
    "##Feature Scaling"
   ]
  },
  {
   "cell_type": "code",
   "execution_count": 22,
   "metadata": {
    "id": "OljxY6eeYBkt"
   },
   "outputs": [],
   "source": [
    "from sklearn.preprocessing import StandardScaler\n",
    "sc = StandardScaler()\n",
    "X_train = sc.fit_transform(X_train)\n",
    "X_test = sc.transform(X_test)"
   ]
  },
  {
   "cell_type": "code",
   "execution_count": 23,
   "metadata": {
    "id": "CBqU66t7YBkt",
    "outputId": "b09f3d0c-6b2b-4997-8e4d-8a6dfb22d924"
   },
   "outputs": [
    {
     "data": {
      "text/plain": [
       "numpy.ndarray"
      ]
     },
     "execution_count": 23,
     "metadata": {},
     "output_type": "execute_result"
    }
   ],
   "source": [
    "type(X_train)\n",
    "X_train[:, 0]=X_train[:, 0].astype('int')\n",
    "type(X_train[:, 0])"
   ]
  },
  {
   "cell_type": "markdown",
   "metadata": {
    "id": "m15Z9BfsXbzZ"
   },
   "source": [
    "##Training the model "
   ]
  },
  {
   "cell_type": "code",
   "execution_count": 24,
   "metadata": {
    "id": "dyv0QesCYBkt",
    "outputId": "ceca2ad8-7ff7-4e60-9338-34923073b491"
   },
   "outputs": [
    {
     "data": {
      "text/plain": [
       "DecisionTreeClassifier(criterion='entropy', random_state=0)"
      ]
     },
     "execution_count": 24,
     "metadata": {},
     "output_type": "execute_result"
    }
   ],
   "source": [
    "from sklearn.tree import DecisionTreeClassifier\n",
    "classifier = DecisionTreeClassifier(criterion = 'entropy', random_state = 0)\n",
    "classifier.fit(X_train, y_train)\n",
    "# from sklearn.svm import SVC\n",
    "# classifier = SVC(kernel = 'linear', random_state = 0)\n",
    "# classifier.fit(X_train, y_train)"
   ]
  },
  {
   "cell_type": "markdown",
   "metadata": {
    "id": "oH8ngbDgZGVZ"
   },
   "source": [
    "##Calculating Accuracy by Confusion matrix"
   ]
  },
  {
   "cell_type": "code",
   "execution_count": 25,
   "metadata": {
    "id": "v0QKSF8iYBkt",
    "outputId": "a4650226-6d59-4f67-b168-4f88235cdd66"
   },
   "outputs": [
    {
     "name": "stdout",
     "output_type": "stream",
     "text": [
      "[[12433   697]\n",
      " [  919 11594]]\n"
     ]
    },
    {
     "data": {
      "text/plain": [
       "0.9369808524743595"
      ]
     },
     "execution_count": 25,
     "metadata": {},
     "output_type": "execute_result"
    }
   ],
   "source": [
    "y_pred = classifier.predict(X_test)\n",
    "from sklearn.metrics import confusion_matrix, accuracy_score\n",
    "cm = confusion_matrix(y_test, y_pred)\n",
    "print(cm)\n",
    "accuracy_score(y_test, y_pred)"
   ]
  },
  {
   "cell_type": "markdown",
   "metadata": {
    "id": "npjPcERvZNPo"
   },
   "source": [
    "##Comparing predicted value and Actual value"
   ]
  },
  {
   "cell_type": "code",
   "execution_count": 26,
   "metadata": {
    "id": "7ABAFxLEYBku",
    "outputId": "d198568a-3b76-4131-c730-3ffba4016ac2"
   },
   "outputs": [
    {
     "name": "stdout",
     "output_type": "stream",
     "text": [
      "[[0 0]\n",
      " [1 1]\n",
      " [0 0]\n",
      " ...\n",
      " [0 1]\n",
      " [1 1]\n",
      " [1 1]]\n"
     ]
    }
   ],
   "source": [
    "print(np.concatenate((y_pred.reshape(len(y_pred),1), y_test.reshape(len(y_test),1)),1))"
   ]
  }
 ],
 "metadata": {
  "colab": {
   "name": "ScorePredictor_2nd_inning.ipynb",
   "provenance": []
  },
  "kernelspec": {
   "display_name": "Python 3",
   "language": "python",
   "name": "python3"
  },
  "language_info": {
   "codemirror_mode": {
    "name": "ipython",
    "version": 3
   },
   "file_extension": ".py",
   "mimetype": "text/x-python",
   "name": "python",
   "nbconvert_exporter": "python",
   "pygments_lexer": "ipython3",
   "version": "3.7.9"
  }
 },
 "nbformat": 4,
 "nbformat_minor": 1
}
