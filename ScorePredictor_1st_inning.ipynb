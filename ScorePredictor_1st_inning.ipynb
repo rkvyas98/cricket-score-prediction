{
 "cells": [
  {
   "cell_type": "markdown",
   "metadata": {
    "id": "ADt6lSOBWvGK"
   },
   "source": [
    "#First Inning Score predictor"
   ]
  },
  {
   "cell_type": "markdown",
   "metadata": {
    "id": "hswDRuLbW4cJ"
   },
   "source": [
    "##Importing Libraries"
   ]
  },
  {
   "cell_type": "code",
   "execution_count": 1,
   "metadata": {
    "id": "mbx_8-G4Ws52"
   },
   "outputs": [],
   "source": [
    "import numpy as np\n",
    "import pandas as pd\n",
    "import matplotlib.pyplot as plt"
   ]
  },
  {
   "cell_type": "markdown",
   "metadata": {
    "id": "6VQ9LXcSW9hl"
   },
   "source": [
    "##Importing Data and Data study "
   ]
  },
  {
   "cell_type": "code",
   "execution_count": 2,
   "metadata": {
    "id": "9mUWdvFFWs59"
   },
   "outputs": [],
   "source": [
    "dataset = pd.read_csv('./data/odi_1st_inning.csv')"
   ]
  },
  {
   "cell_type": "code",
   "execution_count": 3,
   "metadata": {
    "id": "BfqnKRROWs5-",
    "outputId": "3ef32755-e3a8-4472-a03a-a0bff6fc4044"
   },
   "outputs": [
    {
     "data": {
      "text/html": [
       "<div>\n",
       "<style scoped>\n",
       "    .dataframe tbody tr th:only-of-type {\n",
       "        vertical-align: middle;\n",
       "    }\n",
       "\n",
       "    .dataframe tbody tr th {\n",
       "        vertical-align: top;\n",
       "    }\n",
       "\n",
       "    .dataframe thead th {\n",
       "        text-align: right;\n",
       "    }\n",
       "</style>\n",
       "<table border=\"1\" class=\"dataframe\">\n",
       "  <thead>\n",
       "    <tr style=\"text-align: right;\">\n",
       "      <th></th>\n",
       "      <th>mid</th>\n",
       "      <th>date</th>\n",
       "      <th>venue</th>\n",
       "      <th>bat_team</th>\n",
       "      <th>bowl_team</th>\n",
       "      <th>batsman</th>\n",
       "      <th>bowler</th>\n",
       "      <th>runs</th>\n",
       "      <th>wickets</th>\n",
       "      <th>overs</th>\n",
       "      <th>runs_last_5</th>\n",
       "      <th>wickets_last_5</th>\n",
       "      <th>striker</th>\n",
       "      <th>non-striker</th>\n",
       "      <th>total</th>\n",
       "    </tr>\n",
       "  </thead>\n",
       "  <tbody>\n",
       "    <tr>\n",
       "      <th>0</th>\n",
       "      <td>1</td>\n",
       "      <td>2006-06-13</td>\n",
       "      <td>Civil Service Cricket Club, Stormont</td>\n",
       "      <td>England</td>\n",
       "      <td>Ireland</td>\n",
       "      <td>ME Trescothick</td>\n",
       "      <td>DT Johnston</td>\n",
       "      <td>0</td>\n",
       "      <td>0</td>\n",
       "      <td>0.1</td>\n",
       "      <td>0</td>\n",
       "      <td>0</td>\n",
       "      <td>0</td>\n",
       "      <td>0</td>\n",
       "      <td>301</td>\n",
       "    </tr>\n",
       "    <tr>\n",
       "      <th>1</th>\n",
       "      <td>1</td>\n",
       "      <td>2006-06-13</td>\n",
       "      <td>Civil Service Cricket Club, Stormont</td>\n",
       "      <td>England</td>\n",
       "      <td>Ireland</td>\n",
       "      <td>ME Trescothick</td>\n",
       "      <td>DT Johnston</td>\n",
       "      <td>0</td>\n",
       "      <td>0</td>\n",
       "      <td>0.2</td>\n",
       "      <td>0</td>\n",
       "      <td>0</td>\n",
       "      <td>0</td>\n",
       "      <td>0</td>\n",
       "      <td>301</td>\n",
       "    </tr>\n",
       "    <tr>\n",
       "      <th>2</th>\n",
       "      <td>1</td>\n",
       "      <td>2006-06-13</td>\n",
       "      <td>Civil Service Cricket Club, Stormont</td>\n",
       "      <td>England</td>\n",
       "      <td>Ireland</td>\n",
       "      <td>ME Trescothick</td>\n",
       "      <td>DT Johnston</td>\n",
       "      <td>4</td>\n",
       "      <td>0</td>\n",
       "      <td>0.3</td>\n",
       "      <td>4</td>\n",
       "      <td>0</td>\n",
       "      <td>0</td>\n",
       "      <td>0</td>\n",
       "      <td>301</td>\n",
       "    </tr>\n",
       "    <tr>\n",
       "      <th>3</th>\n",
       "      <td>1</td>\n",
       "      <td>2006-06-13</td>\n",
       "      <td>Civil Service Cricket Club, Stormont</td>\n",
       "      <td>England</td>\n",
       "      <td>Ireland</td>\n",
       "      <td>ME Trescothick</td>\n",
       "      <td>DT Johnston</td>\n",
       "      <td>6</td>\n",
       "      <td>0</td>\n",
       "      <td>0.4</td>\n",
       "      <td>6</td>\n",
       "      <td>0</td>\n",
       "      <td>0</td>\n",
       "      <td>0</td>\n",
       "      <td>301</td>\n",
       "    </tr>\n",
       "    <tr>\n",
       "      <th>4</th>\n",
       "      <td>1</td>\n",
       "      <td>2006-06-13</td>\n",
       "      <td>Civil Service Cricket Club, Stormont</td>\n",
       "      <td>England</td>\n",
       "      <td>Ireland</td>\n",
       "      <td>ME Trescothick</td>\n",
       "      <td>DT Johnston</td>\n",
       "      <td>6</td>\n",
       "      <td>0</td>\n",
       "      <td>0.5</td>\n",
       "      <td>6</td>\n",
       "      <td>0</td>\n",
       "      <td>0</td>\n",
       "      <td>0</td>\n",
       "      <td>301</td>\n",
       "    </tr>\n",
       "  </tbody>\n",
       "</table>\n",
       "</div>"
      ],
      "text/plain": [
       "   mid        date                                 venue bat_team bowl_team  \\\n",
       "0    1  2006-06-13  Civil Service Cricket Club, Stormont  England   Ireland   \n",
       "1    1  2006-06-13  Civil Service Cricket Club, Stormont  England   Ireland   \n",
       "2    1  2006-06-13  Civil Service Cricket Club, Stormont  England   Ireland   \n",
       "3    1  2006-06-13  Civil Service Cricket Club, Stormont  England   Ireland   \n",
       "4    1  2006-06-13  Civil Service Cricket Club, Stormont  England   Ireland   \n",
       "\n",
       "          batsman       bowler  runs  wickets  overs  runs_last_5  \\\n",
       "0  ME Trescothick  DT Johnston     0        0    0.1            0   \n",
       "1  ME Trescothick  DT Johnston     0        0    0.2            0   \n",
       "2  ME Trescothick  DT Johnston     4        0    0.3            4   \n",
       "3  ME Trescothick  DT Johnston     6        0    0.4            6   \n",
       "4  ME Trescothick  DT Johnston     6        0    0.5            6   \n",
       "\n",
       "   wickets_last_5  striker  non-striker  total  \n",
       "0               0        0            0    301  \n",
       "1               0        0            0    301  \n",
       "2               0        0            0    301  \n",
       "3               0        0            0    301  \n",
       "4               0        0            0    301  "
      ]
     },
     "execution_count": 3,
     "metadata": {},
     "output_type": "execute_result"
    }
   ],
   "source": [
    "dataset.head()"
   ]
  },
  {
   "cell_type": "code",
   "execution_count": 4,
   "metadata": {
    "id": "MOZthfRzWs5_",
    "outputId": "41f05522-6d21-444e-8ef6-2e0fd28aee0b"
   },
   "outputs": [
    {
     "name": "stdout",
     "output_type": "stream",
     "text": [
      "21\n",
      "21\n",
      "938\n",
      "709\n"
     ]
    }
   ],
   "source": [
    "print(len(dataset[\"bat_team\"].unique()))\n",
    "print(len(dataset[\"bowl_team\"].unique()))\n",
    "print(len(dataset[\"batsman\"].unique()))\n",
    "print(len(dataset[\"bowler\"].unique()))"
   ]
  },
  {
   "cell_type": "code",
   "execution_count": 5,
   "metadata": {
    "id": "TXmY34yYWs5_",
    "outputId": "9824414c-2e1f-4a1e-93e5-79d5b9a4aadb"
   },
   "outputs": [
    {
     "data": {
      "text/html": [
       "<div>\n",
       "<style scoped>\n",
       "    .dataframe tbody tr th:only-of-type {\n",
       "        vertical-align: middle;\n",
       "    }\n",
       "\n",
       "    .dataframe tbody tr th {\n",
       "        vertical-align: top;\n",
       "    }\n",
       "\n",
       "    .dataframe thead th {\n",
       "        text-align: right;\n",
       "    }\n",
       "</style>\n",
       "<table border=\"1\" class=\"dataframe\">\n",
       "  <thead>\n",
       "    <tr style=\"text-align: right;\">\n",
       "      <th></th>\n",
       "      <th>mid</th>\n",
       "      <th>runs</th>\n",
       "      <th>wickets</th>\n",
       "      <th>overs</th>\n",
       "      <th>runs_last_5</th>\n",
       "      <th>wickets_last_5</th>\n",
       "      <th>striker</th>\n",
       "      <th>non-striker</th>\n",
       "      <th>total</th>\n",
       "    </tr>\n",
       "  </thead>\n",
       "  <tbody>\n",
       "    <tr>\n",
       "      <th>count</th>\n",
       "      <td>350899.000000</td>\n",
       "      <td>350899.000000</td>\n",
       "      <td>350899.000000</td>\n",
       "      <td>350899.000000</td>\n",
       "      <td>350899.000000</td>\n",
       "      <td>350899.000000</td>\n",
       "      <td>350899.000000</td>\n",
       "      <td>350899.000000</td>\n",
       "      <td>350899.000000</td>\n",
       "    </tr>\n",
       "    <tr>\n",
       "      <th>mean</th>\n",
       "      <td>594.360426</td>\n",
       "      <td>114.801661</td>\n",
       "      <td>2.974970</td>\n",
       "      <td>24.052899</td>\n",
       "      <td>23.548303</td>\n",
       "      <td>0.669814</td>\n",
       "      <td>35.180129</td>\n",
       "      <td>12.427944</td>\n",
       "      <td>255.355387</td>\n",
       "    </tr>\n",
       "    <tr>\n",
       "      <th>std</th>\n",
       "      <td>343.605128</td>\n",
       "      <td>77.665959</td>\n",
       "      <td>2.298959</td>\n",
       "      <td>14.235439</td>\n",
       "      <td>11.042974</td>\n",
       "      <td>0.833895</td>\n",
       "      <td>28.115264</td>\n",
       "      <td>15.019181</td>\n",
       "      <td>62.354412</td>\n",
       "    </tr>\n",
       "    <tr>\n",
       "      <th>min</th>\n",
       "      <td>1.000000</td>\n",
       "      <td>0.000000</td>\n",
       "      <td>0.000000</td>\n",
       "      <td>0.000000</td>\n",
       "      <td>0.000000</td>\n",
       "      <td>0.000000</td>\n",
       "      <td>0.000000</td>\n",
       "      <td>0.000000</td>\n",
       "      <td>44.000000</td>\n",
       "    </tr>\n",
       "    <tr>\n",
       "      <th>25%</th>\n",
       "      <td>296.000000</td>\n",
       "      <td>51.000000</td>\n",
       "      <td>1.000000</td>\n",
       "      <td>11.600000</td>\n",
       "      <td>17.000000</td>\n",
       "      <td>0.000000</td>\n",
       "      <td>13.000000</td>\n",
       "      <td>2.000000</td>\n",
       "      <td>217.000000</td>\n",
       "    </tr>\n",
       "    <tr>\n",
       "      <th>50%</th>\n",
       "      <td>596.000000</td>\n",
       "      <td>105.000000</td>\n",
       "      <td>3.000000</td>\n",
       "      <td>23.600000</td>\n",
       "      <td>23.000000</td>\n",
       "      <td>0.000000</td>\n",
       "      <td>29.000000</td>\n",
       "      <td>7.000000</td>\n",
       "      <td>257.000000</td>\n",
       "    </tr>\n",
       "    <tr>\n",
       "      <th>75%</th>\n",
       "      <td>893.000000</td>\n",
       "      <td>168.000000</td>\n",
       "      <td>4.000000</td>\n",
       "      <td>36.200000</td>\n",
       "      <td>29.000000</td>\n",
       "      <td>1.000000</td>\n",
       "      <td>50.000000</td>\n",
       "      <td>18.000000</td>\n",
       "      <td>298.000000</td>\n",
       "    </tr>\n",
       "    <tr>\n",
       "      <th>max</th>\n",
       "      <td>1188.000000</td>\n",
       "      <td>444.000000</td>\n",
       "      <td>10.000000</td>\n",
       "      <td>49.600000</td>\n",
       "      <td>101.000000</td>\n",
       "      <td>7.000000</td>\n",
       "      <td>264.000000</td>\n",
       "      <td>149.000000</td>\n",
       "      <td>444.000000</td>\n",
       "    </tr>\n",
       "  </tbody>\n",
       "</table>\n",
       "</div>"
      ],
      "text/plain": [
       "                 mid           runs        wickets          overs  \\\n",
       "count  350899.000000  350899.000000  350899.000000  350899.000000   \n",
       "mean      594.360426     114.801661       2.974970      24.052899   \n",
       "std       343.605128      77.665959       2.298959      14.235439   \n",
       "min         1.000000       0.000000       0.000000       0.000000   \n",
       "25%       296.000000      51.000000       1.000000      11.600000   \n",
       "50%       596.000000     105.000000       3.000000      23.600000   \n",
       "75%       893.000000     168.000000       4.000000      36.200000   \n",
       "max      1188.000000     444.000000      10.000000      49.600000   \n",
       "\n",
       "         runs_last_5  wickets_last_5        striker    non-striker  \\\n",
       "count  350899.000000   350899.000000  350899.000000  350899.000000   \n",
       "mean       23.548303        0.669814      35.180129      12.427944   \n",
       "std        11.042974        0.833895      28.115264      15.019181   \n",
       "min         0.000000        0.000000       0.000000       0.000000   \n",
       "25%        17.000000        0.000000      13.000000       2.000000   \n",
       "50%        23.000000        0.000000      29.000000       7.000000   \n",
       "75%        29.000000        1.000000      50.000000      18.000000   \n",
       "max       101.000000        7.000000     264.000000     149.000000   \n",
       "\n",
       "               total  \n",
       "count  350899.000000  \n",
       "mean      255.355387  \n",
       "std        62.354412  \n",
       "min        44.000000  \n",
       "25%       217.000000  \n",
       "50%       257.000000  \n",
       "75%       298.000000  \n",
       "max       444.000000  "
      ]
     },
     "execution_count": 5,
     "metadata": {},
     "output_type": "execute_result"
    }
   ],
   "source": [
    "dataset.describe()"
   ]
  },
  {
   "cell_type": "code",
   "execution_count": 6,
   "metadata": {
    "id": "9NU338H3Ws6A",
    "outputId": "aae8e4ed-672f-429c-d246-242de47f1366"
   },
   "outputs": [
    {
     "name": "stdout",
     "output_type": "stream",
     "text": [
      "<class 'pandas.core.frame.DataFrame'>\n",
      "RangeIndex: 350899 entries, 0 to 350898\n",
      "Data columns (total 15 columns):\n",
      " #   Column          Non-Null Count   Dtype  \n",
      "---  ------          --------------   -----  \n",
      " 0   mid             350899 non-null  int64  \n",
      " 1   date            350899 non-null  object \n",
      " 2   venue           350899 non-null  object \n",
      " 3   bat_team        350899 non-null  object \n",
      " 4   bowl_team       350899 non-null  object \n",
      " 5   batsman         350899 non-null  object \n",
      " 6   bowler          350899 non-null  object \n",
      " 7   runs            350899 non-null  int64  \n",
      " 8   wickets         350899 non-null  int64  \n",
      " 9   overs           350899 non-null  float64\n",
      " 10  runs_last_5     350899 non-null  int64  \n",
      " 11  wickets_last_5  350899 non-null  int64  \n",
      " 12  striker         350899 non-null  int64  \n",
      " 13  non-striker     350899 non-null  int64  \n",
      " 14  total           350899 non-null  int64  \n",
      "dtypes: float64(1), int64(8), object(6)\n",
      "memory usage: 40.2+ MB\n"
     ]
    }
   ],
   "source": [
    "dataset.info()"
   ]
  },
  {
   "cell_type": "code",
   "execution_count": 7,
   "metadata": {
    "id": "Ssg3_zXmWs6A",
    "outputId": "57a5bf8c-1e94-48e0-de99-0937bd5514cb"
   },
   "outputs": [
    {
     "data": {
      "text/html": [
       "<div>\n",
       "<style scoped>\n",
       "    .dataframe tbody tr th:only-of-type {\n",
       "        vertical-align: middle;\n",
       "    }\n",
       "\n",
       "    .dataframe tbody tr th {\n",
       "        vertical-align: top;\n",
       "    }\n",
       "\n",
       "    .dataframe thead th {\n",
       "        text-align: right;\n",
       "    }\n",
       "</style>\n",
       "<table border=\"1\" class=\"dataframe\">\n",
       "  <thead>\n",
       "    <tr style=\"text-align: right;\">\n",
       "      <th></th>\n",
       "      <th>mid</th>\n",
       "      <th>runs</th>\n",
       "      <th>wickets</th>\n",
       "      <th>overs</th>\n",
       "      <th>runs_last_5</th>\n",
       "      <th>wickets_last_5</th>\n",
       "      <th>striker</th>\n",
       "      <th>non-striker</th>\n",
       "      <th>total</th>\n",
       "    </tr>\n",
       "  </thead>\n",
       "  <tbody>\n",
       "    <tr>\n",
       "      <th>mid</th>\n",
       "      <td>1.000000</td>\n",
       "      <td>0.038262</td>\n",
       "      <td>-0.023003</td>\n",
       "      <td>0.005770</td>\n",
       "      <td>0.065211</td>\n",
       "      <td>-0.003811</td>\n",
       "      <td>0.062887</td>\n",
       "      <td>0.038808</td>\n",
       "      <td>0.117010</td>\n",
       "    </tr>\n",
       "    <tr>\n",
       "      <th>runs</th>\n",
       "      <td>0.038262</td>\n",
       "      <td>1.000000</td>\n",
       "      <td>0.598875</td>\n",
       "      <td>0.931473</td>\n",
       "      <td>0.647093</td>\n",
       "      <td>0.215938</td>\n",
       "      <td>0.572680</td>\n",
       "      <td>0.277120</td>\n",
       "      <td>0.316891</td>\n",
       "    </tr>\n",
       "    <tr>\n",
       "      <th>wickets</th>\n",
       "      <td>-0.023003</td>\n",
       "      <td>0.598875</td>\n",
       "      <td>1.000000</td>\n",
       "      <td>0.756038</td>\n",
       "      <td>0.168192</td>\n",
       "      <td>0.492133</td>\n",
       "      <td>0.067412</td>\n",
       "      <td>-0.172466</td>\n",
       "      <td>-0.304311</td>\n",
       "    </tr>\n",
       "    <tr>\n",
       "      <th>overs</th>\n",
       "      <td>0.005770</td>\n",
       "      <td>0.931473</td>\n",
       "      <td>0.756038</td>\n",
       "      <td>1.000000</td>\n",
       "      <td>0.496190</td>\n",
       "      <td>0.242566</td>\n",
       "      <td>0.491282</td>\n",
       "      <td>0.208318</td>\n",
       "      <td>0.086654</td>\n",
       "    </tr>\n",
       "    <tr>\n",
       "      <th>runs_last_5</th>\n",
       "      <td>0.065211</td>\n",
       "      <td>0.647093</td>\n",
       "      <td>0.168192</td>\n",
       "      <td>0.496190</td>\n",
       "      <td>1.000000</td>\n",
       "      <td>-0.021467</td>\n",
       "      <td>0.562481</td>\n",
       "      <td>0.439263</td>\n",
       "      <td>0.426608</td>\n",
       "    </tr>\n",
       "    <tr>\n",
       "      <th>wickets_last_5</th>\n",
       "      <td>-0.003811</td>\n",
       "      <td>0.215938</td>\n",
       "      <td>0.492133</td>\n",
       "      <td>0.242566</td>\n",
       "      <td>-0.021467</td>\n",
       "      <td>1.000000</td>\n",
       "      <td>-0.207187</td>\n",
       "      <td>-0.468785</td>\n",
       "      <td>-0.191498</td>\n",
       "    </tr>\n",
       "    <tr>\n",
       "      <th>striker</th>\n",
       "      <td>0.062887</td>\n",
       "      <td>0.572680</td>\n",
       "      <td>0.067412</td>\n",
       "      <td>0.491282</td>\n",
       "      <td>0.562481</td>\n",
       "      <td>-0.207187</td>\n",
       "      <td>1.000000</td>\n",
       "      <td>0.542781</td>\n",
       "      <td>0.368623</td>\n",
       "    </tr>\n",
       "    <tr>\n",
       "      <th>non-striker</th>\n",
       "      <td>0.038808</td>\n",
       "      <td>0.277120</td>\n",
       "      <td>-0.172466</td>\n",
       "      <td>0.208318</td>\n",
       "      <td>0.439263</td>\n",
       "      <td>-0.468785</td>\n",
       "      <td>0.542781</td>\n",
       "      <td>1.000000</td>\n",
       "      <td>0.321307</td>\n",
       "    </tr>\n",
       "    <tr>\n",
       "      <th>total</th>\n",
       "      <td>0.117010</td>\n",
       "      <td>0.316891</td>\n",
       "      <td>-0.304311</td>\n",
       "      <td>0.086654</td>\n",
       "      <td>0.426608</td>\n",
       "      <td>-0.191498</td>\n",
       "      <td>0.368623</td>\n",
       "      <td>0.321307</td>\n",
       "      <td>1.000000</td>\n",
       "    </tr>\n",
       "  </tbody>\n",
       "</table>\n",
       "</div>"
      ],
      "text/plain": [
       "                     mid      runs   wickets     overs  runs_last_5  \\\n",
       "mid             1.000000  0.038262 -0.023003  0.005770     0.065211   \n",
       "runs            0.038262  1.000000  0.598875  0.931473     0.647093   \n",
       "wickets        -0.023003  0.598875  1.000000  0.756038     0.168192   \n",
       "overs           0.005770  0.931473  0.756038  1.000000     0.496190   \n",
       "runs_last_5     0.065211  0.647093  0.168192  0.496190     1.000000   \n",
       "wickets_last_5 -0.003811  0.215938  0.492133  0.242566    -0.021467   \n",
       "striker         0.062887  0.572680  0.067412  0.491282     0.562481   \n",
       "non-striker     0.038808  0.277120 -0.172466  0.208318     0.439263   \n",
       "total           0.117010  0.316891 -0.304311  0.086654     0.426608   \n",
       "\n",
       "                wickets_last_5   striker  non-striker     total  \n",
       "mid                  -0.003811  0.062887     0.038808  0.117010  \n",
       "runs                  0.215938  0.572680     0.277120  0.316891  \n",
       "wickets               0.492133  0.067412    -0.172466 -0.304311  \n",
       "overs                 0.242566  0.491282     0.208318  0.086654  \n",
       "runs_last_5          -0.021467  0.562481     0.439263  0.426608  \n",
       "wickets_last_5        1.000000 -0.207187    -0.468785 -0.191498  \n",
       "striker              -0.207187  1.000000     0.542781  0.368623  \n",
       "non-striker          -0.468785  0.542781     1.000000  0.321307  \n",
       "total                -0.191498  0.368623     0.321307  1.000000  "
      ]
     },
     "execution_count": 7,
     "metadata": {},
     "output_type": "execute_result"
    }
   ],
   "source": [
    "dataset.corr()"
   ]
  },
  {
   "cell_type": "code",
   "execution_count": 8,
   "metadata": {
    "id": "f6PMKlMtWs6A"
   },
   "outputs": [],
   "source": [
    "# dataset.hist(bins = 50, figsize = (20,15))"
   ]
  },
  {
   "cell_type": "code",
   "execution_count": 9,
   "metadata": {
    "id": "6aBzscotWs6B",
    "outputId": "a09fd8e6-0cee-44cf-b4dd-8bb0cd70bd42"
   },
   "outputs": [
    {
     "data": {
      "text/plain": [
       "Index(['mid', 'date', 'venue', 'bat_team', 'bowl_team', 'batsman', 'bowler',\n",
       "       'runs', 'wickets', 'overs', 'runs_last_5', 'wickets_last_5', 'striker',\n",
       "       'non-striker', 'total'],\n",
       "      dtype='object')"
      ]
     },
     "execution_count": 9,
     "metadata": {},
     "output_type": "execute_result"
    }
   ],
   "source": [
    "dataset.columns"
   ]
  },
  {
   "cell_type": "code",
   "execution_count": 10,
   "metadata": {
    "id": "4xk1YhKVWs6B",
    "outputId": "69d95db8-6488-482a-d898-8e6fdae67a6c"
   },
   "outputs": [
    {
     "data": {
      "text/html": [
       "<div>\n",
       "<style scoped>\n",
       "    .dataframe tbody tr th:only-of-type {\n",
       "        vertical-align: middle;\n",
       "    }\n",
       "\n",
       "    .dataframe tbody tr th {\n",
       "        vertical-align: top;\n",
       "    }\n",
       "\n",
       "    .dataframe thead th {\n",
       "        text-align: right;\n",
       "    }\n",
       "</style>\n",
       "<table border=\"1\" class=\"dataframe\">\n",
       "  <thead>\n",
       "    <tr style=\"text-align: right;\">\n",
       "      <th></th>\n",
       "      <th>mid</th>\n",
       "      <th>date</th>\n",
       "      <th>venue</th>\n",
       "      <th>bat_team</th>\n",
       "      <th>bowl_team</th>\n",
       "      <th>batsman</th>\n",
       "      <th>bowler</th>\n",
       "      <th>runs</th>\n",
       "      <th>wickets</th>\n",
       "      <th>overs</th>\n",
       "      <th>runs_last_5</th>\n",
       "      <th>wickets_last_5</th>\n",
       "      <th>striker</th>\n",
       "      <th>non-striker</th>\n",
       "      <th>total</th>\n",
       "    </tr>\n",
       "  </thead>\n",
       "  <tbody>\n",
       "    <tr>\n",
       "      <th>0</th>\n",
       "      <td>1</td>\n",
       "      <td>2006-06-13</td>\n",
       "      <td>Civil Service Cricket Club, Stormont</td>\n",
       "      <td>England</td>\n",
       "      <td>Ireland</td>\n",
       "      <td>ME Trescothick</td>\n",
       "      <td>DT Johnston</td>\n",
       "      <td>0</td>\n",
       "      <td>0</td>\n",
       "      <td>0.1</td>\n",
       "      <td>0</td>\n",
       "      <td>0</td>\n",
       "      <td>0</td>\n",
       "      <td>0</td>\n",
       "      <td>301</td>\n",
       "    </tr>\n",
       "    <tr>\n",
       "      <th>1</th>\n",
       "      <td>1</td>\n",
       "      <td>2006-06-13</td>\n",
       "      <td>Civil Service Cricket Club, Stormont</td>\n",
       "      <td>England</td>\n",
       "      <td>Ireland</td>\n",
       "      <td>ME Trescothick</td>\n",
       "      <td>DT Johnston</td>\n",
       "      <td>0</td>\n",
       "      <td>0</td>\n",
       "      <td>0.2</td>\n",
       "      <td>0</td>\n",
       "      <td>0</td>\n",
       "      <td>0</td>\n",
       "      <td>0</td>\n",
       "      <td>301</td>\n",
       "    </tr>\n",
       "    <tr>\n",
       "      <th>2</th>\n",
       "      <td>1</td>\n",
       "      <td>2006-06-13</td>\n",
       "      <td>Civil Service Cricket Club, Stormont</td>\n",
       "      <td>England</td>\n",
       "      <td>Ireland</td>\n",
       "      <td>ME Trescothick</td>\n",
       "      <td>DT Johnston</td>\n",
       "      <td>4</td>\n",
       "      <td>0</td>\n",
       "      <td>0.3</td>\n",
       "      <td>4</td>\n",
       "      <td>0</td>\n",
       "      <td>0</td>\n",
       "      <td>0</td>\n",
       "      <td>301</td>\n",
       "    </tr>\n",
       "    <tr>\n",
       "      <th>3</th>\n",
       "      <td>1</td>\n",
       "      <td>2006-06-13</td>\n",
       "      <td>Civil Service Cricket Club, Stormont</td>\n",
       "      <td>England</td>\n",
       "      <td>Ireland</td>\n",
       "      <td>ME Trescothick</td>\n",
       "      <td>DT Johnston</td>\n",
       "      <td>6</td>\n",
       "      <td>0</td>\n",
       "      <td>0.4</td>\n",
       "      <td>6</td>\n",
       "      <td>0</td>\n",
       "      <td>0</td>\n",
       "      <td>0</td>\n",
       "      <td>301</td>\n",
       "    </tr>\n",
       "    <tr>\n",
       "      <th>4</th>\n",
       "      <td>1</td>\n",
       "      <td>2006-06-13</td>\n",
       "      <td>Civil Service Cricket Club, Stormont</td>\n",
       "      <td>England</td>\n",
       "      <td>Ireland</td>\n",
       "      <td>ME Trescothick</td>\n",
       "      <td>DT Johnston</td>\n",
       "      <td>6</td>\n",
       "      <td>0</td>\n",
       "      <td>0.5</td>\n",
       "      <td>6</td>\n",
       "      <td>0</td>\n",
       "      <td>0</td>\n",
       "      <td>0</td>\n",
       "      <td>301</td>\n",
       "    </tr>\n",
       "  </tbody>\n",
       "</table>\n",
       "</div>"
      ],
      "text/plain": [
       "   mid        date                                 venue bat_team bowl_team  \\\n",
       "0    1  2006-06-13  Civil Service Cricket Club, Stormont  England   Ireland   \n",
       "1    1  2006-06-13  Civil Service Cricket Club, Stormont  England   Ireland   \n",
       "2    1  2006-06-13  Civil Service Cricket Club, Stormont  England   Ireland   \n",
       "3    1  2006-06-13  Civil Service Cricket Club, Stormont  England   Ireland   \n",
       "4    1  2006-06-13  Civil Service Cricket Club, Stormont  England   Ireland   \n",
       "\n",
       "          batsman       bowler  runs  wickets  overs  runs_last_5  \\\n",
       "0  ME Trescothick  DT Johnston     0        0    0.1            0   \n",
       "1  ME Trescothick  DT Johnston     0        0    0.2            0   \n",
       "2  ME Trescothick  DT Johnston     4        0    0.3            4   \n",
       "3  ME Trescothick  DT Johnston     6        0    0.4            6   \n",
       "4  ME Trescothick  DT Johnston     6        0    0.5            6   \n",
       "\n",
       "   wickets_last_5  striker  non-striker  total  \n",
       "0               0        0            0    301  \n",
       "1               0        0            0    301  \n",
       "2               0        0            0    301  \n",
       "3               0        0            0    301  \n",
       "4               0        0            0    301  "
      ]
     },
     "execution_count": 10,
     "metadata": {},
     "output_type": "execute_result"
    }
   ],
   "source": [
    "dataset.head()"
   ]
  },
  {
   "cell_type": "code",
   "execution_count": 11,
   "metadata": {
    "id": "44wAp-yXWs6C"
   },
   "outputs": [],
   "source": [
    "K = dataset.iloc[:, [3,4,5,6,7,8,9,12,13,14]].values"
   ]
  },
  {
   "cell_type": "code",
   "execution_count": 12,
   "metadata": {
    "id": "hFp03okuWs6C"
   },
   "outputs": [],
   "source": [
    "column_values = ['bat_team', 'bowl_team', 'batsman', 'bowler',\n",
    "       'runs', 'wickets', 'overs', 'striker',\n",
    "       'non-striker','total']"
   ]
  },
  {
   "cell_type": "code",
   "execution_count": 13,
   "metadata": {
    "id": "bRnH4IOJWs6C",
    "outputId": "677fcef4-5f29-476a-94eb-1e803a84d559"
   },
   "outputs": [
    {
     "data": {
      "text/html": [
       "<div>\n",
       "<style scoped>\n",
       "    .dataframe tbody tr th:only-of-type {\n",
       "        vertical-align: middle;\n",
       "    }\n",
       "\n",
       "    .dataframe tbody tr th {\n",
       "        vertical-align: top;\n",
       "    }\n",
       "\n",
       "    .dataframe thead th {\n",
       "        text-align: right;\n",
       "    }\n",
       "</style>\n",
       "<table border=\"1\" class=\"dataframe\">\n",
       "  <thead>\n",
       "    <tr style=\"text-align: right;\">\n",
       "      <th></th>\n",
       "      <th>bat_team</th>\n",
       "      <th>bowl_team</th>\n",
       "      <th>batsman</th>\n",
       "      <th>bowler</th>\n",
       "      <th>runs</th>\n",
       "      <th>wickets</th>\n",
       "      <th>overs</th>\n",
       "      <th>striker</th>\n",
       "      <th>non-striker</th>\n",
       "      <th>total</th>\n",
       "    </tr>\n",
       "  </thead>\n",
       "  <tbody>\n",
       "    <tr>\n",
       "      <th>0</th>\n",
       "      <td>England</td>\n",
       "      <td>Ireland</td>\n",
       "      <td>ME Trescothick</td>\n",
       "      <td>DT Johnston</td>\n",
       "      <td>0</td>\n",
       "      <td>0</td>\n",
       "      <td>0.1</td>\n",
       "      <td>0</td>\n",
       "      <td>0</td>\n",
       "      <td>301</td>\n",
       "    </tr>\n",
       "    <tr>\n",
       "      <th>1</th>\n",
       "      <td>England</td>\n",
       "      <td>Ireland</td>\n",
       "      <td>ME Trescothick</td>\n",
       "      <td>DT Johnston</td>\n",
       "      <td>0</td>\n",
       "      <td>0</td>\n",
       "      <td>0.2</td>\n",
       "      <td>0</td>\n",
       "      <td>0</td>\n",
       "      <td>301</td>\n",
       "    </tr>\n",
       "    <tr>\n",
       "      <th>2</th>\n",
       "      <td>England</td>\n",
       "      <td>Ireland</td>\n",
       "      <td>ME Trescothick</td>\n",
       "      <td>DT Johnston</td>\n",
       "      <td>4</td>\n",
       "      <td>0</td>\n",
       "      <td>0.3</td>\n",
       "      <td>0</td>\n",
       "      <td>0</td>\n",
       "      <td>301</td>\n",
       "    </tr>\n",
       "    <tr>\n",
       "      <th>3</th>\n",
       "      <td>England</td>\n",
       "      <td>Ireland</td>\n",
       "      <td>ME Trescothick</td>\n",
       "      <td>DT Johnston</td>\n",
       "      <td>6</td>\n",
       "      <td>0</td>\n",
       "      <td>0.4</td>\n",
       "      <td>0</td>\n",
       "      <td>0</td>\n",
       "      <td>301</td>\n",
       "    </tr>\n",
       "    <tr>\n",
       "      <th>4</th>\n",
       "      <td>England</td>\n",
       "      <td>Ireland</td>\n",
       "      <td>ME Trescothick</td>\n",
       "      <td>DT Johnston</td>\n",
       "      <td>6</td>\n",
       "      <td>0</td>\n",
       "      <td>0.5</td>\n",
       "      <td>0</td>\n",
       "      <td>0</td>\n",
       "      <td>301</td>\n",
       "    </tr>\n",
       "    <tr>\n",
       "      <th>...</th>\n",
       "      <td>...</td>\n",
       "      <td>...</td>\n",
       "      <td>...</td>\n",
       "      <td>...</td>\n",
       "      <td>...</td>\n",
       "      <td>...</td>\n",
       "      <td>...</td>\n",
       "      <td>...</td>\n",
       "      <td>...</td>\n",
       "      <td>...</td>\n",
       "    </tr>\n",
       "    <tr>\n",
       "      <th>350894</th>\n",
       "      <td>Sri Lanka</td>\n",
       "      <td>Zimbabwe</td>\n",
       "      <td>DAS Gunaratne</td>\n",
       "      <td>TL Chatara</td>\n",
       "      <td>201</td>\n",
       "      <td>8</td>\n",
       "      <td>49.2</td>\n",
       "      <td>59</td>\n",
       "      <td>18</td>\n",
       "      <td>203</td>\n",
       "    </tr>\n",
       "    <tr>\n",
       "      <th>350895</th>\n",
       "      <td>Sri Lanka</td>\n",
       "      <td>Zimbabwe</td>\n",
       "      <td>DAS Gunaratne</td>\n",
       "      <td>TL Chatara</td>\n",
       "      <td>201</td>\n",
       "      <td>8</td>\n",
       "      <td>49.3</td>\n",
       "      <td>59</td>\n",
       "      <td>18</td>\n",
       "      <td>203</td>\n",
       "    </tr>\n",
       "    <tr>\n",
       "      <th>350896</th>\n",
       "      <td>Sri Lanka</td>\n",
       "      <td>Zimbabwe</td>\n",
       "      <td>DAS Gunaratne</td>\n",
       "      <td>TL Chatara</td>\n",
       "      <td>201</td>\n",
       "      <td>8</td>\n",
       "      <td>49.4</td>\n",
       "      <td>59</td>\n",
       "      <td>18</td>\n",
       "      <td>203</td>\n",
       "    </tr>\n",
       "    <tr>\n",
       "      <th>350897</th>\n",
       "      <td>Sri Lanka</td>\n",
       "      <td>Zimbabwe</td>\n",
       "      <td>DAS Gunaratne</td>\n",
       "      <td>TL Chatara</td>\n",
       "      <td>202</td>\n",
       "      <td>8</td>\n",
       "      <td>49.5</td>\n",
       "      <td>59</td>\n",
       "      <td>18</td>\n",
       "      <td>203</td>\n",
       "    </tr>\n",
       "    <tr>\n",
       "      <th>350898</th>\n",
       "      <td>Sri Lanka</td>\n",
       "      <td>Zimbabwe</td>\n",
       "      <td>PVD Chameera</td>\n",
       "      <td>TL Chatara</td>\n",
       "      <td>203</td>\n",
       "      <td>8</td>\n",
       "      <td>49.6</td>\n",
       "      <td>59</td>\n",
       "      <td>18</td>\n",
       "      <td>203</td>\n",
       "    </tr>\n",
       "  </tbody>\n",
       "</table>\n",
       "<p>350899 rows × 10 columns</p>\n",
       "</div>"
      ],
      "text/plain": [
       "         bat_team bowl_team         batsman       bowler runs wickets overs  \\\n",
       "0         England   Ireland  ME Trescothick  DT Johnston    0       0   0.1   \n",
       "1         England   Ireland  ME Trescothick  DT Johnston    0       0   0.2   \n",
       "2         England   Ireland  ME Trescothick  DT Johnston    4       0   0.3   \n",
       "3         England   Ireland  ME Trescothick  DT Johnston    6       0   0.4   \n",
       "4         England   Ireland  ME Trescothick  DT Johnston    6       0   0.5   \n",
       "...           ...       ...             ...          ...  ...     ...   ...   \n",
       "350894  Sri Lanka  Zimbabwe   DAS Gunaratne   TL Chatara  201       8  49.2   \n",
       "350895  Sri Lanka  Zimbabwe   DAS Gunaratne   TL Chatara  201       8  49.3   \n",
       "350896  Sri Lanka  Zimbabwe   DAS Gunaratne   TL Chatara  201       8  49.4   \n",
       "350897  Sri Lanka  Zimbabwe   DAS Gunaratne   TL Chatara  202       8  49.5   \n",
       "350898  Sri Lanka  Zimbabwe    PVD Chameera   TL Chatara  203       8  49.6   \n",
       "\n",
       "       striker non-striker total  \n",
       "0            0           0   301  \n",
       "1            0           0   301  \n",
       "2            0           0   301  \n",
       "3            0           0   301  \n",
       "4            0           0   301  \n",
       "...        ...         ...   ...  \n",
       "350894      59          18   203  \n",
       "350895      59          18   203  \n",
       "350896      59          18   203  \n",
       "350897      59          18   203  \n",
       "350898      59          18   203  \n",
       "\n",
       "[350899 rows x 10 columns]"
      ]
     },
     "execution_count": 13,
     "metadata": {},
     "output_type": "execute_result"
    }
   ],
   "source": [
    "df = pd.DataFrame(data = K,    \n",
    "                  columns = column_values) \n",
    "df"
   ]
  },
  {
   "cell_type": "code",
   "execution_count": 14,
   "metadata": {
    "id": "WULmWV9kWs6C",
    "outputId": "197c8221-ba82-47f8-f37c-2b5f8bd64605"
   },
   "outputs": [
    {
     "name": "stdout",
     "output_type": "stream",
     "text": [
      "21\n",
      "21\n",
      "938\n",
      "709\n"
     ]
    }
   ],
   "source": [
    "print(len(df[\"bat_team\"].unique()))\n",
    "print(len(df[\"bowl_team\"].unique()))\n",
    "print(len(df[\"batsman\"].unique()))\n",
    "print(len(df[\"bowler\"].unique()))"
   ]
  },
  {
   "cell_type": "code",
   "execution_count": 15,
   "metadata": {
    "id": "53zpJ-bZWs6D"
   },
   "outputs": [],
   "source": [
    "X = df.iloc[:, :-1].values\n",
    "y = df.iloc[:, -1].values"
   ]
  },
  {
   "cell_type": "code",
   "execution_count": 16,
   "metadata": {
    "id": "_vBriatRWs6D",
    "outputId": "64a295e1-e2ca-4858-eb13-dc60bb3f387a"
   },
   "outputs": [
    {
     "data": {
      "text/plain": [
       "array([['England', 'Ireland', 'ME Trescothick', ..., 0.1, 0, 0],\n",
       "       ['England', 'Ireland', 'ME Trescothick', ..., 0.2, 0, 0],\n",
       "       ['England', 'Ireland', 'ME Trescothick', ..., 0.3, 0, 0],\n",
       "       ...,\n",
       "       ['Sri Lanka', 'Zimbabwe', 'DAS Gunaratne', ..., 49.4, 59, 18],\n",
       "       ['Sri Lanka', 'Zimbabwe', 'DAS Gunaratne', ..., 49.5, 59, 18],\n",
       "       ['Sri Lanka', 'Zimbabwe', 'PVD Chameera', ..., 49.6, 59, 18]],\n",
       "      dtype=object)"
      ]
     },
     "execution_count": 16,
     "metadata": {},
     "output_type": "execute_result"
    }
   ],
   "source": [
    "X"
   ]
  },
  {
   "cell_type": "code",
   "execution_count": 17,
   "metadata": {
    "id": "-fwh6Hg4Ws6D",
    "outputId": "b8e5a20b-5fd8-4b85-b266-b156ad32964f"
   },
   "outputs": [
    {
     "data": {
      "text/plain": [
       "array([301, 301, 301, ..., 203, 203, 203], dtype=object)"
      ]
     },
     "execution_count": 17,
     "metadata": {},
     "output_type": "execute_result"
    }
   ],
   "source": [
    "y"
   ]
  },
  {
   "cell_type": "markdown",
   "metadata": {
    "id": "3_jigosEYiK4"
   },
   "source": [
    "###Label Encoding Name of player and Playing teams"
   ]
  },
  {
   "cell_type": "code",
   "execution_count": 18,
   "metadata": {
    "id": "LcanNfH5Ws6E"
   },
   "outputs": [],
   "source": [
    "from sklearn.preprocessing import LabelEncoder\n",
    "le = LabelEncoder()\n",
    "X[:, 0] = le.fit_transform(X[:, 0])\n",
    "X[:, 1] = le.fit_transform(X[:, 1])\n",
    "X[:, 2] = le.fit_transform(X[:, 2])\n",
    "X[:, 3] = le.fit_transform(X[:, 3])"
   ]
  },
  {
   "cell_type": "code",
   "execution_count": 19,
   "metadata": {
    "id": "rs7o3kyFWs6E",
    "outputId": "eab46323-b2dd-4fa6-f671-cfd0c895a720"
   },
   "outputs": [
    {
     "data": {
      "text/plain": [
       "array([[6, 9, 520, ..., 0.1, 0, 0],\n",
       "       [6, 9, 520, ..., 0.2, 0, 0],\n",
       "       [6, 9, 520, ..., 0.3, 0, 0],\n",
       "       ...,\n",
       "       [17, 20, 199, ..., 49.4, 59, 18],\n",
       "       [17, 20, 199, ..., 49.5, 59, 18],\n",
       "       [17, 20, 670, ..., 49.6, 59, 18]], dtype=object)"
      ]
     },
     "execution_count": 19,
     "metadata": {},
     "output_type": "execute_result"
    }
   ],
   "source": [
    "X"
   ]
  },
  {
   "cell_type": "code",
   "execution_count": 20,
   "metadata": {
    "id": "s237DewSWs6E",
    "outputId": "ef74f976-d1ca-45f2-b2ec-a01bbfe0b4a5"
   },
   "outputs": [
    {
     "name": "stdout",
     "output_type": "stream",
     "text": [
      "<class 'pandas.core.frame.DataFrame'>\n",
      "RangeIndex: 350899 entries, 0 to 350898\n",
      "Data columns (total 10 columns):\n",
      " #   Column       Non-Null Count   Dtype \n",
      "---  ------       --------------   ----- \n",
      " 0   bat_team     350899 non-null  object\n",
      " 1   bowl_team    350899 non-null  object\n",
      " 2   batsman      350899 non-null  object\n",
      " 3   bowler       350899 non-null  object\n",
      " 4   runs         350899 non-null  object\n",
      " 5   wickets      350899 non-null  object\n",
      " 6   overs        350899 non-null  object\n",
      " 7   striker      350899 non-null  object\n",
      " 8   non-striker  350899 non-null  object\n",
      " 9   total        350899 non-null  object\n",
      "dtypes: object(10)\n",
      "memory usage: 26.8+ MB\n"
     ]
    }
   ],
   "source": [
    "df.info()"
   ]
  },
  {
   "cell_type": "markdown",
   "metadata": {
    "id": "Nr_vSAw-XQ1Q"
   },
   "source": [
    "##Splitting the dataset into the Training set and Test set"
   ]
  },
  {
   "cell_type": "code",
   "execution_count": 21,
   "metadata": {
    "id": "IZl6Ir7NWs6E",
    "outputId": "215b702b-244c-46cd-ff9a-f8de212837a7"
   },
   "outputs": [
    {
     "name": "stdout",
     "output_type": "stream",
     "text": [
      "For training set: \n",
      "2     35901\n",
      "17    34230\n",
      "8     26748\n",
      "6     25761\n",
      "16    25570\n",
      "13    25326\n",
      "12    24122\n",
      "3     19152\n",
      "19    19126\n",
      "20    16943\n",
      "0      6051\n",
      "9      6023\n",
      "15     4774\n",
      "10     2381\n",
      "5      1925\n",
      "11     1742\n",
      "18     1605\n",
      "4      1414\n",
      "7       951\n",
      "1       747\n",
      "14      227\n",
      "Name: bat_team, dtype: int64\n",
      "For testing set: \n",
      "2     8975\n",
      "17    8557\n",
      "8     6687\n",
      "6     6440\n",
      "16    6392\n",
      "13    6332\n",
      "12    6030\n",
      "3     4788\n",
      "19    4781\n",
      "20    4236\n",
      "0     1513\n",
      "9     1506\n",
      "15    1194\n",
      "10     595\n",
      "5      481\n",
      "11     436\n",
      "18     401\n",
      "4      354\n",
      "7      238\n",
      "1      187\n",
      "14      57\n",
      "Name: bat_team, dtype: int64\n"
     ]
    }
   ],
   "source": [
    "from sklearn.model_selection import StratifiedShuffleSplit\n",
    "split = StratifiedShuffleSplit(n_splits = 1, test_size = 0.2, random_state = 42)\n",
    "for train_index, test_index in split.split(df, df['bat_team']):\n",
    "  strat_train_set = df.loc[train_index]\n",
    "  strat_test_set = df.loc[test_index]\n",
    "print(\"For training set: \")\n",
    "print(strat_train_set['bat_team'].value_counts())\n",
    "print(\"For testing set: \")\n",
    "print(strat_test_set['bat_team'].value_counts())\n",
    "X_train = strat_train_set.iloc[:,:-1].values\n",
    "y_train = strat_train_set.iloc[:,-1].values\n",
    "X_test = strat_test_set.iloc[:,:-1].values\n",
    "y_test = strat_test_set.iloc[:,-1].values"
   ]
  },
  {
   "cell_type": "code",
   "execution_count": 22,
   "metadata": {
    "id": "ENZrJFslWs6F"
   },
   "outputs": [],
   "source": [
    "# from sklearn.model_selection import train_test_split\n",
    "# X_train, X_test, y_train, y_test = train_test_split(X, y, test_size = 0.25, random_state = 0)"
   ]
  },
  {
   "cell_type": "markdown",
   "metadata": {
    "id": "m15Z9BfsXbzZ"
   },
   "source": [
    "##Training the model "
   ]
  },
  {
   "cell_type": "code",
   "execution_count": 23,
   "metadata": {
    "id": "HRl2xT15Ws6F",
    "outputId": "693759fd-b986-436b-9bef-f2f51076c638"
   },
   "outputs": [
    {
     "data": {
      "text/plain": [
       "RandomForestRegressor(max_features=None)"
      ]
     },
     "execution_count": 23,
     "metadata": {},
     "output_type": "execute_result"
    }
   ],
   "source": [
    "from sklearn.ensemble import RandomForestRegressor\n",
    "reg = RandomForestRegressor(n_estimators=100,max_features=None)\n",
    "reg.fit(X_train,y_train)"
   ]
  },
  {
   "cell_type": "markdown",
   "metadata": {
    "id": "wPmzREoqX1YT"
   },
   "source": [
    "##Calculating R Square value"
   ]
  },
  {
   "cell_type": "code",
   "execution_count": 24,
   "metadata": {
    "id": "C49qkiP6Ws6F",
    "outputId": "779a5639-6947-40a3-e644-86bdaf45eb0f"
   },
   "outputs": [
    {
     "name": "stdout",
     "output_type": "stream",
     "text": [
      "R square value: 95.76916539283492\n"
     ]
    }
   ],
   "source": [
    "y_pred = reg.predict(X_test)\n",
    "score = reg.score(X_test,y_test)*100\n",
    "print(\"R square value:\" , score)"
   ]
  }
 ],
 "metadata": {
  "colab": {
   "name": "ScorePredictor_1st_inning.ipynb",
   "provenance": []
  },
  "kernelspec": {
   "display_name": "Python 3",
   "language": "python",
   "name": "python3"
  },
  "language_info": {
   "codemirror_mode": {
    "name": "ipython",
    "version": 3
   },
   "file_extension": ".py",
   "mimetype": "text/x-python",
   "name": "python",
   "nbconvert_exporter": "python",
   "pygments_lexer": "ipython3",
   "version": "3.7.9"
  }
 },
 "nbformat": 4,
 "nbformat_minor": 1
}
